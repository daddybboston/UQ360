{
 "cells": [
  {
   "cell_type": "markdown",
   "id": "757faaca",
   "metadata": {},
   "source": [
    "# Cross validation of the clinc150 dataset\n",
    "- Determine if the clinc150 dataset can be used similar to mimic what is seen in representative dataset when running Performance Predictor\n",
    "- clinc has 150 intents (need 92 to mimic representative dataset)\n",
    "- clinc has 3 datasets with 150 intents\n",
    "  - train (tn)\n",
    "  - test (te)\n",
    "  - val (va)\n",
    "- clinc also has 3 oos datasets but they only have 1 intent so they are ignored\n",
    "- run a cross validation on the combined (co) dataset to get the accuracies on a trained svm classifier.\n",
    "- check the accuracies across the splits to see if it is consistent."
   ]
  },
  {
   "cell_type": "code",
   "execution_count": 1,
   "id": "e0a022d4",
   "metadata": {},
   "outputs": [
    {
     "data": {
      "text/html": [
       "<style>.container { width:100% !important; }</style>"
      ],
      "text/plain": [
       "<IPython.core.display.HTML object>"
      ]
     },
     "metadata": {},
     "output_type": "display_data"
    }
   ],
   "source": [
    "import gzip\n",
    "from IPython.display import display, HTML\n",
    "import json\n",
    "import numpy as np\n",
    "import os\n",
    "import pandas as pd\n",
    "from sentence_transformers import SentenceTransformer\n",
    "from sklearn.model_selection import StratifiedKFold\n",
    "from sklearn.svm import SVC\n",
    "import time\n",
    "from typing import List\n",
    "\n",
    "pd.options.display.max_colwidth = 100\n",
    "\n",
    "%load_ext autoreload\n",
    "%autoreload 2\n",
    "\n",
    "# Increase the width of the notebook so that it is the width of the browser \n",
    "# which allows larger size for the dashboard\n",
    "display(HTML('<style>.container { width:100% !important; }</style>'))"
   ]
  },
  {
   "cell_type": "markdown",
   "id": "07e2c6cb",
   "metadata": {},
   "source": [
    "#### Load workspace dataset"
   ]
  },
  {
   "cell_type": "code",
   "execution_count": 2,
   "id": "bb390fb7",
   "metadata": {},
   "outputs": [],
   "source": [
    "json_gzip_file = '../../../data/clinc150/data_full.json.gzip'\n",
    "with gzip.open(json_gzip_file, 'r') as fin:\n",
    "    data = json.loads(fin.read().decode('utf-8'))"
   ]
  },
  {
   "cell_type": "code",
   "execution_count": 3,
   "id": "b9aba64b",
   "metadata": {},
   "outputs": [],
   "source": [
    "datasets = {}\n",
    "for k,v in data.items():\n",
    "    datasets[k] = []\n",
    "    for i in v:\n",
    "        datasets[k].append({'intent': i[1], 'example':i[0]})"
   ]
  },
  {
   "cell_type": "code",
   "execution_count": 4,
   "id": "85ff3604",
   "metadata": {},
   "outputs": [
    {
     "name": "stdout",
     "output_type": "stream",
     "text": [
      "oos_val n_xmp 100\n",
      "oos_val n_int 1\n"
     ]
    },
    {
     "data": {
      "text/html": [
       "<table border=\"1\" class=\"dataframe\">\n",
       "  <thead>\n",
       "    <tr style=\"text-align: right;\">\n",
       "      <th></th>\n",
       "      <th>intent</th>\n",
       "      <th>example</th>\n",
       "    </tr>\n",
       "  </thead>\n",
       "  <tbody>\n",
       "    <tr>\n",
       "      <th>0</th>\n",
       "      <td>oos</td>\n",
       "      <td>set a warning for when my bank account starts running low</td>\n",
       "    </tr>\n",
       "  </tbody>\n",
       "</table>"
      ],
      "text/plain": [
       "<IPython.core.display.HTML object>"
      ]
     },
     "metadata": {},
     "output_type": "display_data"
    },
    {
     "name": "stdout",
     "output_type": "stream",
     "text": [
      "val n_xmp 3000\n",
      "val n_int 150\n"
     ]
    },
    {
     "data": {
      "text/html": [
       "<table border=\"1\" class=\"dataframe\">\n",
       "  <thead>\n",
       "    <tr style=\"text-align: right;\">\n",
       "      <th></th>\n",
       "      <th>intent</th>\n",
       "      <th>example</th>\n",
       "    </tr>\n",
       "  </thead>\n",
       "  <tbody>\n",
       "    <tr>\n",
       "      <th>0</th>\n",
       "      <td>translate</td>\n",
       "      <td>in spanish, meet me tomorrow is said how</td>\n",
       "    </tr>\n",
       "  </tbody>\n",
       "</table>"
      ],
      "text/plain": [
       "<IPython.core.display.HTML object>"
      ]
     },
     "metadata": {},
     "output_type": "display_data"
    },
    {
     "name": "stdout",
     "output_type": "stream",
     "text": [
      "train n_xmp 15000\n",
      "train n_int 150\n"
     ]
    },
    {
     "data": {
      "text/html": [
       "<table border=\"1\" class=\"dataframe\">\n",
       "  <thead>\n",
       "    <tr style=\"text-align: right;\">\n",
       "      <th></th>\n",
       "      <th>intent</th>\n",
       "      <th>example</th>\n",
       "    </tr>\n",
       "  </thead>\n",
       "  <tbody>\n",
       "    <tr>\n",
       "      <th>0</th>\n",
       "      <td>translate</td>\n",
       "      <td>what expression would i use to say i love you if i were an italian</td>\n",
       "    </tr>\n",
       "  </tbody>\n",
       "</table>"
      ],
      "text/plain": [
       "<IPython.core.display.HTML object>"
      ]
     },
     "metadata": {},
     "output_type": "display_data"
    },
    {
     "name": "stdout",
     "output_type": "stream",
     "text": [
      "oos_test n_xmp 1000\n",
      "oos_test n_int 1\n"
     ]
    },
    {
     "data": {
      "text/html": [
       "<table border=\"1\" class=\"dataframe\">\n",
       "  <thead>\n",
       "    <tr style=\"text-align: right;\">\n",
       "      <th></th>\n",
       "      <th>intent</th>\n",
       "      <th>example</th>\n",
       "    </tr>\n",
       "  </thead>\n",
       "  <tbody>\n",
       "    <tr>\n",
       "      <th>0</th>\n",
       "      <td>oos</td>\n",
       "      <td>how much has the dow changed today</td>\n",
       "    </tr>\n",
       "  </tbody>\n",
       "</table>"
      ],
      "text/plain": [
       "<IPython.core.display.HTML object>"
      ]
     },
     "metadata": {},
     "output_type": "display_data"
    },
    {
     "name": "stdout",
     "output_type": "stream",
     "text": [
      "test n_xmp 4500\n",
      "test n_int 150\n"
     ]
    },
    {
     "data": {
      "text/html": [
       "<table border=\"1\" class=\"dataframe\">\n",
       "  <thead>\n",
       "    <tr style=\"text-align: right;\">\n",
       "      <th></th>\n",
       "      <th>intent</th>\n",
       "      <th>example</th>\n",
       "    </tr>\n",
       "  </thead>\n",
       "  <tbody>\n",
       "    <tr>\n",
       "      <th>0</th>\n",
       "      <td>translate</td>\n",
       "      <td>how would you say fly in italian</td>\n",
       "    </tr>\n",
       "  </tbody>\n",
       "</table>"
      ],
      "text/plain": [
       "<IPython.core.display.HTML object>"
      ]
     },
     "metadata": {},
     "output_type": "display_data"
    },
    {
     "name": "stdout",
     "output_type": "stream",
     "text": [
      "oos_train n_xmp 100\n",
      "oos_train n_int 1\n"
     ]
    },
    {
     "data": {
      "text/html": [
       "<table border=\"1\" class=\"dataframe\">\n",
       "  <thead>\n",
       "    <tr style=\"text-align: right;\">\n",
       "      <th></th>\n",
       "      <th>intent</th>\n",
       "      <th>example</th>\n",
       "    </tr>\n",
       "  </thead>\n",
       "  <tbody>\n",
       "    <tr>\n",
       "      <th>0</th>\n",
       "      <td>oos</td>\n",
       "      <td>how much is an overdraft fee for bank</td>\n",
       "    </tr>\n",
       "  </tbody>\n",
       "</table>"
      ],
      "text/plain": [
       "<IPython.core.display.HTML object>"
      ]
     },
     "metadata": {},
     "output_type": "display_data"
    }
   ],
   "source": [
    "dfs = {}\n",
    "for k,v in datasets.items():\n",
    "    dfs[k] = pd.DataFrame(v)\n",
    "    print(f'{k} n_xmp {len(dfs[k])}')\n",
    "    print(f'{k} n_int {len(np.unique(dfs[k][\"intent\"].to_numpy()))}')\n",
    "    display(HTML(dfs[k].head(1).to_html()))"
   ]
  },
  {
   "cell_type": "markdown",
   "id": "e577ecd1",
   "metadata": {},
   "source": [
    "#### Verify intents are same in 3 datasets (train, test & val)"
   ]
  },
  {
   "cell_type": "code",
   "execution_count": 5,
   "id": "84456f7d",
   "metadata": {},
   "outputs": [
    {
     "name": "stdout",
     "output_type": "stream",
     "text": [
      "tr unique = 150\n",
      "te unique = 150\n",
      "va unique = 150\n",
      "co unique = 150\n",
      "tr min(count)  = 100\n",
      "tr max(count)  = 100\n",
      "te min(count)  = 30\n",
      "te max(count)  = 30\n",
      "va min(count)  = 20\n",
      "va max(count)  = 20\n",
      "co min(count)  = 150\n",
      "co max(count)  = 150\n"
     ]
    }
   ],
   "source": [
    "tr_intents = [v['intent'] for v in datasets['train']]\n",
    "te_intents = [v['intent'] for v in datasets['test']]\n",
    "va_intents = [v['intent'] for v in datasets['val']]\n",
    "co_intents = tr_intents + te_intents + va_intents\n",
    "print(f'tr unique = {len(np.unique(tr_intents))}')\n",
    "print(f'te unique = {len(np.unique(te_intents))}')\n",
    "print(f'va unique = {len(np.unique(va_intents))}')\n",
    "print(f'co unique = {len(np.unique(co_intents))}')\n",
    "print(f'tr min(count)  = {min(np.unique(tr_intents, return_counts=True)[1])}')\n",
    "print(f'tr max(count)  = {max(np.unique(tr_intents, return_counts=True)[1])}')\n",
    "print(f'te min(count)  = {min(np.unique(te_intents, return_counts=True)[1])}')\n",
    "print(f'te max(count)  = {max(np.unique(te_intents, return_counts=True)[1])}')\n",
    "print(f'va min(count)  = {min(np.unique(va_intents, return_counts=True)[1])}')\n",
    "print(f'va max(count)  = {max(np.unique(va_intents, return_counts=True)[1])}')\n",
    "print(f'co min(count)  = {min(np.unique(co_intents, return_counts=True)[1])}')\n",
    "print(f'co max(count)  = {max(np.unique(co_intents, return_counts=True)[1])}')"
   ]
  },
  {
   "cell_type": "markdown",
   "id": "6277bafa",
   "metadata": {},
   "source": [
    "#### Extract the X and Y values for each of the datasets"
   ]
  },
  {
   "cell_type": "code",
   "execution_count": 6,
   "id": "aebacff5",
   "metadata": {},
   "outputs": [
    {
     "name": "stdout",
     "output_type": "stream",
     "text": [
      "x_tr.shape  = (15000,)\n",
      "y_tr.shape  = (15000,)\n",
      "x_te.shape  = (4500,)\n",
      "y_te.shape  = (4500,)\n",
      "x_va.shape  = (3000,)\n",
      "y_va.shape  = (3000,)\n",
      "x_co.shape  = (22500,)\n",
      "y_co.shape  = (22500,)\n"
     ]
    }
   ],
   "source": [
    "x_tr = dfs['train']['example'].to_numpy()\n",
    "x_te = dfs['test']['example'].to_numpy()\n",
    "x_va = dfs['val']['example'].to_numpy()\n",
    "y_tr = dfs['train']['intent'].to_numpy().ravel()\n",
    "y_te = dfs['test']['intent'].to_numpy().ravel()\n",
    "y_va = dfs['val']['intent'].to_numpy().ravel()\n",
    "x_co = np.concatenate((x_tr, x_te, x_va))\n",
    "y_co = np.concatenate((y_tr, y_te, y_va))\n",
    "\n",
    "print(f'x_tr.shape  = {x_tr.shape}')\n",
    "print(f'y_tr.shape  = {y_tr.shape}')\n",
    "print(f'x_te.shape  = {x_te.shape}')\n",
    "print(f'y_te.shape  = {y_te.shape}')\n",
    "print(f'x_va.shape  = {x_va.shape}')\n",
    "print(f'y_va.shape  = {y_va.shape}')\n",
    "print(f'x_co.shape  = {x_co.shape}')\n",
    "print(f'y_co.shape  = {y_co.shape}')"
   ]
  },
  {
   "cell_type": "markdown",
   "id": "580d651a",
   "metadata": {},
   "source": [
    "#### Encode with USE encoder"
   ]
  },
  {
   "cell_type": "code",
   "execution_count": 7,
   "id": "8f82bf3b",
   "metadata": {
    "scrolled": false
   },
   "outputs": [
    {
     "name": "stdout",
     "output_type": "stream",
     "text": [
      "x_tr_encoded.shape = (15000, 384)\n",
      "x_te_encoded.shape = (4500, 384)\n",
      "x_va_encoded.shape = (3000, 384)\n",
      "x_co_encoded.shape = (22500, 384)\n",
      "CPU times: user 4.45 s, sys: 178 ms, total: 4.63 s\n",
      "Wall time: 3.04 s\n"
     ]
    }
   ],
   "source": [
    "%%time\n",
    "class MiniLMEmbedding:\n",
    "    def __init__(self):\n",
    "        self.transformer = SentenceTransformer('paraphrase-MiniLM-L6-v2')\n",
    "    def encode(self, input_sentences: List[str]) -> np.array:\n",
    "        sentences = [sentence.lower() for sentence in input_sentences]\n",
    "        embedded_sentences = [self.embed_sentence(s) for s in sentences]\n",
    "        return np.array(embedded_sentences)\n",
    "    def embed_sentence(self, sentence: str) -> np.array:\n",
    "        embedding = self.transformer.encode(sentence, show_progress_bar=False, convert_to_numpy=True)\n",
    "        return embedding\n",
    "\n",
    "encoder = MiniLMEmbedding()\n",
    "\n",
    "encoded_file = '../../../data/clinc150/x_co_encoded.csv'\n",
    "if os.path.exists(encoded_file):\n",
    "    df = pd.read_csv(encoded_file, header=None)\n",
    "    x_co_encoded = df.to_numpy()\n",
    "    x_tr_encoded = x_co_encoded[:len(x_tr)]\n",
    "    x_te_encoded = x_co_encoded[len(x_tr):len(x_tr) + len(x_te)]\n",
    "    x_va_encoded = x_co_encoded[len(x_tr) + len(x_te):]\n",
    "    x_va_encoded = x_co_encoded[-len(x_va):]\n",
    "\n",
    "    print(f'x_tr_encoded.shape = {x_tr_encoded.shape}')\n",
    "    print(f'x_te_encoded.shape = {x_te_encoded.shape}')\n",
    "    print(f'x_va_encoded.shape = {x_va_encoded.shape}')\n",
    "else:\n",
    "    encoder = MiniLMEmbedding()\n",
    "\n",
    "    start = time.time()\n",
    "    x_tr_encoded = encoder.encode(x_tr)\n",
    "    print(f'done tr dur={time.time() - start}')\n",
    "\n",
    "    start = time.time()\n",
    "    x_te_encoded = encoder.encode(x_te)\n",
    "    print(f'done te dur={time.time() - start}')\n",
    "\n",
    "    start = time.time()\n",
    "    x_va_encoded = encoder.encode(x_va)\n",
    "    print(f'done va dur={time.time() - start}')\n",
    "\n",
    "    start = time.time()\n",
    "    x_co_encoded = np.concatenate((x_tr_encoded, x_te_encoded, x_va_encoded))\n",
    "    print(f'done co dur={time.time() - start}')\n",
    "    start = time.time()\n",
    "\n",
    "    print(f'x_tr_encoded.shape = {x_tr_encoded.shape}')\n",
    "    print(f'x_te_encoded.shape = {x_te_encoded.shape}')\n",
    "    print(f'x_va_encoded.shape = {x_va_encoded.shape}')\n",
    "\n",
    "    # Save to file\n",
    "    df = pd.DataFrame(x_co_encoded)\n",
    "    df.to_csv(encoded_file, header=False, index=False)\n",
    "\n",
    "print(f'x_co_encoded.shape = {x_co_encoded.shape}')"
   ]
  },
  {
   "cell_type": "markdown",
   "id": "d6359ad7",
   "metadata": {},
   "source": [
    "#### Run a cross validation on SVM classifiers\n",
    "- Split the combined (x_co) dataset into 5 splits\n",
    "- Each train (x_trn) is 4500 (22500/5)\n",
    "- Each test (x_tst) is 18000 (22500 * 4/5)\n",
    "- Score the accuracy of each cross split\n",
    "  - Normally you'd test against the test of each split (x_tst)\n",
    "  - But in this case test against each dataset \n",
    "     - split train (x_trn)\n",
    "     - split test (x_tst)\n",
    "     - original train (x_tr)\n",
    "     - original test (x_te)\n",
    "     - original val (x_va)\n",
    "     - original combined (x_co)\n",
    "  - This is done to see if any of the datasets have problems, e.g. one has a very low score compared to the others.\n",
    "  - split train (x_trn) has a high accuracy 99%\n",
    "  - Other datasets have similar accuracies 93% to 95%."
   ]
  },
  {
   "cell_type": "code",
   "execution_count": 8,
   "id": "3226a399",
   "metadata": {},
   "outputs": [
    {
     "name": "stdout",
     "output_type": "stream",
     "text": [
      "run 0 fit() dur=33.82995367050171\n",
      "score()s    dur=226.800518989563\n",
      "run 1 fit() dur=31.592586040496826\n",
      "score()s    dur=216.28667426109314\n",
      "run 2 fit() dur=29.467215538024902\n",
      "score()s    dur=223.49970602989197\n",
      "run 3 fit() dur=28.677660942077637\n",
      "score()s    dur=209.384206533432\n",
      "run 4 fit() dur=28.410287380218506\n",
      "score()s    dur=209.28026461601257\n",
      "CPU times: user 20min 37s, sys: 326 ms, total: 20min 37s\n",
      "Wall time: 20min 37s\n"
     ]
    }
   ],
   "source": [
    "%%time\n",
    "skf = StratifiedKFold(n_splits=5, random_state=42, shuffle=True)\n",
    "\n",
    "runs = []\n",
    "run = 0\n",
    "# reverse the normal train/test split sizes.\n",
    "# Keep the train small and the test large\n",
    "# So the trains are similar in size to the representative dataset\n",
    "for tst_index, trn_index in skf.split(x_co_encoded, y_co):\n",
    "    x_trn = x_co_encoded[trn_index]\n",
    "    x_tst = x_co_encoded[tst_index]\n",
    "    y_trn = y_co[trn_index]\n",
    "    y_tst = y_co[tst_index]\n",
    "    start = time.time()\n",
    "    model = SVC(probability=True, random_state=42)\n",
    "    model.fit(x_trn, y_trn)\n",
    "    print(f'run {run} fit() dur={time.time() - start}')\n",
    "    start = time.time()\n",
    "    runs.append({\n",
    "        'run': run,\n",
    "        'trn_acc': model.score(x_trn, y_trn),\n",
    "        'tst_acc': model.score(x_tst, y_tst),\n",
    "        'tr_acc':  model.score(x_tr_encoded, y_tr),\n",
    "        'te_acc':  model.score(x_te_encoded, y_te),\n",
    "        'va_acc':  model.score(x_va_encoded, y_va),\n",
    "        'co_acc':  model.score(x_co_encoded, y_co),\n",
    "    })\n",
    "    print(f'score()s    dur={time.time() - start}')\n",
    "    start = time.time()\n",
    "    run += 1"
   ]
  },
  {
   "cell_type": "code",
   "execution_count": 9,
   "id": "535083d2",
   "metadata": {},
   "outputs": [
    {
     "data": {
      "text/html": [
       "<table border=\"1\" class=\"dataframe\">\n",
       "  <thead>\n",
       "    <tr style=\"text-align: right;\">\n",
       "      <th></th>\n",
       "      <th>run</th>\n",
       "      <th>trn_acc</th>\n",
       "      <th>tst_acc</th>\n",
       "      <th>tr_acc</th>\n",
       "      <th>te_acc</th>\n",
       "      <th>va_acc</th>\n",
       "      <th>co_acc</th>\n",
       "    </tr>\n",
       "  </thead>\n",
       "  <tbody>\n",
       "    <tr>\n",
       "      <th>0</th>\n",
       "      <td>0</td>\n",
       "      <td>99%</td>\n",
       "      <td>94%</td>\n",
       "      <td>95%</td>\n",
       "      <td>95%</td>\n",
       "      <td>95%</td>\n",
       "      <td>95%</td>\n",
       "    </tr>\n",
       "    <tr>\n",
       "      <th>1</th>\n",
       "      <td>1</td>\n",
       "      <td>99%</td>\n",
       "      <td>94%</td>\n",
       "      <td>95%</td>\n",
       "      <td>94%</td>\n",
       "      <td>95%</td>\n",
       "      <td>95%</td>\n",
       "    </tr>\n",
       "    <tr>\n",
       "      <th>2</th>\n",
       "      <td>2</td>\n",
       "      <td>99%</td>\n",
       "      <td>94%</td>\n",
       "      <td>95%</td>\n",
       "      <td>94%</td>\n",
       "      <td>95%</td>\n",
       "      <td>95%</td>\n",
       "    </tr>\n",
       "    <tr>\n",
       "      <th>3</th>\n",
       "      <td>3</td>\n",
       "      <td>99%</td>\n",
       "      <td>94%</td>\n",
       "      <td>95%</td>\n",
       "      <td>95%</td>\n",
       "      <td>94%</td>\n",
       "      <td>95%</td>\n",
       "    </tr>\n",
       "    <tr>\n",
       "      <th>4</th>\n",
       "      <td>4</td>\n",
       "      <td>99%</td>\n",
       "      <td>93%</td>\n",
       "      <td>95%</td>\n",
       "      <td>94%</td>\n",
       "      <td>94%</td>\n",
       "      <td>95%</td>\n",
       "    </tr>\n",
       "  </tbody>\n",
       "</table>"
      ],
      "text/plain": [
       "<IPython.core.display.HTML object>"
      ]
     },
     "metadata": {},
     "output_type": "display_data"
    }
   ],
   "source": [
    "pct_fmt = '{:,.0%}'.format\n",
    "fmt = {col: pct_fmt for col in ['trn_acc', 'tst_acc', 'tr_acc', 'te_acc', 'va_acc', 'co_acc']}\n",
    "display(HTML(pd.DataFrame(runs).to_html(formatters=fmt)))"
   ]
  },
  {
   "cell_type": "code",
   "execution_count": null,
   "id": "62c089ab",
   "metadata": {},
   "outputs": [],
   "source": []
  }
 ],
 "metadata": {
  "kernelspec": {
   "display_name": "Python 3 (ipykernel)",
   "language": "python",
   "name": "python3"
  },
  "language_info": {
   "codemirror_mode": {
    "name": "ipython",
    "version": 3
   },
   "file_extension": ".py",
   "mimetype": "text/x-python",
   "name": "python",
   "nbconvert_exporter": "python",
   "pygments_lexer": "ipython3",
   "version": "3.10.4"
  }
 },
 "nbformat": 4,
 "nbformat_minor": 5
}
