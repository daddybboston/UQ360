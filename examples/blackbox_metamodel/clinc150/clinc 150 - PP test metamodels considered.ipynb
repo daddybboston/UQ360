{
 "cells": [
  {
   "cell_type": "markdown",
   "id": "757faaca",
   "metadata": {},
   "source": [
    "# Performance Predictor (PP) test metamodels considered\n",
    "\n",
    "Test different meta-models\n",
    "\n",
    "- The meta-model used by the performance predictor to predict whether the base SVC made a correct prediction or not.\n",
    "\n",
    "In this notebook, we will do the following\n",
    "  - Start with the Clinc 150 dataset\n",
    "    - Use the 90 classes with the lowest class accuracy size\n",
    "      - 90 classes deteremined in notebook: \n",
    "        - 'clinc 150 - filter accuracy ordered classes to 0.80 acc and 90 classes.ipynb'\n",
    "    - Randomize the dataset.\n",
    "      - Train set is first 4,500 examples in randomized dataset. \n",
    "        - Mimics the size of the representative workspace\n",
    "      - Remaining 9000 can be used to fit PP.\n",
    "    - Create base SVC model with the train set.\n",
    "  - Run the basic PP ShortTextClassificationWrapper varying the PP metamodels considered.\n",
    "    - metamodels_considered = [['svm', 'gbm', 'mlp'], ['svm'], ['gbm'], ['mlp']]\n",
    "  - Results\n",
    "    - Gather the y_pred and y_score\n",
    "    - Display the SVC and PP accuracies as well as TH/TL/FH/FL for each run"
   ]
  },
  {
   "cell_type": "code",
   "execution_count": 1,
   "id": "e0a022d4",
   "metadata": {},
   "outputs": [
    {
     "name": "stderr",
     "output_type": "stream",
     "text": [
      "2022-08-10 21:00:19.579346: W tensorflow/stream_executor/platform/default/dso_loader.cc:64] Could not load dynamic library 'libcudart.so.11.0'; dlerror: libcudart.so.11.0: cannot open shared object file: No such file or directory\n",
      "2022-08-10 21:00:19.579384: I tensorflow/stream_executor/cuda/cudart_stub.cc:29] Ignore above cudart dlerror if you do not have a GPU set up on your machine.\n"
     ]
    },
    {
     "data": {
      "text/html": [
       "<style>.container { width:100% !important; }</style>"
      ],
      "text/plain": [
       "<IPython.core.display.HTML object>"
      ]
     },
     "metadata": {},
     "output_type": "display_data"
    }
   ],
   "source": [
    "import gzip\n",
    "from IPython.display import display, HTML\n",
    "import io\n",
    "import json\n",
    "import logging\n",
    "import matplotlib.pyplot as plt\n",
    "import numpy as np\n",
    "import os\n",
    "import pandas as pd\n",
    "from sentence_transformers import SentenceTransformer\n",
    "from sklearn.metrics import roc_auc_score\n",
    "from sklearn.metrics import roc_curve\n",
    "from sklearn.svm import SVC\n",
    "from sklearn.utils import shuffle\n",
    "import tensorflow as tf\n",
    "import time\n",
    "from typing import List\n",
    "\n",
    "from uq360.algorithms.blackbox_metamodel.short_text_classification import ShortTextClassificationWrapper\n",
    "\n",
    "os.environ[\"PYTHONWARNINGS\"] = 'ignore'\n",
    "# warnings.filterwarnings('ignore')\n",
    "# warnings.simplefilter(action='ignore', category=FutureWarning)\n",
    "# logging.addLevelName(logging.INFO, 'INFO ')\n",
    "# logging.addLevelName(logging.WARNING, 'WARN ')\n",
    "# logging.addLevelName(logging.CRITICAL, 'CRITI')\n",
    "# logging.Formatter.converter = time.gmtime\n",
    "# logging.basicConfig(format='%(asctime)s %(name)s [%(levelname)s] %(message)s', datefmt='%Y-%m-%dT%H:%M:%S%z', level=logging.WARNING)\n",
    "\n",
    "tf.get_logger().setLevel(logging.ERROR)\n",
    "\n",
    "pd.options.display.max_colwidth = 100\n",
    "\n",
    "%load_ext autoreload\n",
    "%autoreload 2\n",
    "\n",
    "# Increase the width of the notebook so that it is the width of the browser \n",
    "# which allows larger size for the dashboard\n",
    "display(HTML('<style>.container { width:100% !important; }</style>'))"
   ]
  },
  {
   "cell_type": "markdown",
   "id": "07e2c6cb",
   "metadata": {},
   "source": [
    "#### Load workspace dataset"
   ]
  },
  {
   "cell_type": "code",
   "execution_count": 2,
   "id": "bb390fb7",
   "metadata": {},
   "outputs": [],
   "source": [
    "json_gzip_file = '../../../data/clinc150/data_full.json.gzip'\n",
    "with gzip.open(json_gzip_file, 'r') as fin:\n",
    "    data = json.loads(fin.read().decode('utf-8'))\n",
    "datasets = {}\n",
    "for k,v in data.items():\n",
    "    datasets[k] = []\n",
    "    for i in v:\n",
    "        datasets[k].append({'intent': i[1], 'example':i[0]})\n",
    "dfs = {}\n",
    "for k,v in datasets.items():\n",
    "    dfs[k] = pd.DataFrame(v)\n",
    "#     print(f'{k} n_xmp {len(dfs[k])}')\n",
    "#     print(f'{k} n_int {len(np.unique(dfs[k][\"intent\"].to_numpy()))}')\n",
    "#     display(HTML(dfs[k].head(1).to_html()))"
   ]
  },
  {
   "cell_type": "markdown",
   "id": "6277bafa",
   "metadata": {},
   "source": [
    "#### Extract the X and Y values for each of the datasets"
   ]
  },
  {
   "cell_type": "code",
   "execution_count": 3,
   "id": "aebacff5",
   "metadata": {},
   "outputs": [
    {
     "name": "stdout",
     "output_type": "stream",
     "text": [
      "x_tr.shape  = (15000,)\n",
      "y_tr.shape  = (15000,)\n",
      "x_te.shape  = (4500,)\n",
      "y_te.shape  = (4500,)\n",
      "x_va.shape  = (3000,)\n",
      "y_va.shape  = (3000,)\n",
      "x_co.shape  = (22500,)\n",
      "y_co.shape  = (22500,)\n"
     ]
    }
   ],
   "source": [
    "x_tr = dfs['train']['example'].to_numpy()\n",
    "x_te = dfs['test']['example'].to_numpy()\n",
    "x_va = dfs['val']['example'].to_numpy()\n",
    "y_tr = dfs['train']['intent'].to_numpy().ravel()\n",
    "y_te = dfs['test']['intent'].to_numpy().ravel()\n",
    "y_va = dfs['val']['intent'].to_numpy().ravel()\n",
    "x_co = np.concatenate((x_tr, x_te, x_va))\n",
    "y_co = np.concatenate((y_tr, y_te, y_va))\n",
    "\n",
    "print(f'x_tr.shape  = {x_tr.shape}')\n",
    "print(f'y_tr.shape  = {y_tr.shape}')\n",
    "print(f'x_te.shape  = {x_te.shape}')\n",
    "print(f'y_te.shape  = {y_te.shape}')\n",
    "print(f'x_va.shape  = {x_va.shape}')\n",
    "print(f'y_va.shape  = {y_va.shape}')\n",
    "print(f'x_co.shape  = {x_co.shape}')\n",
    "print(f'y_co.shape  = {y_co.shape}')"
   ]
  },
  {
   "cell_type": "markdown",
   "id": "580d651a",
   "metadata": {},
   "source": [
    "#### Encode with USE encoder"
   ]
  },
  {
   "cell_type": "code",
   "execution_count": 4,
   "id": "8f82bf3b",
   "metadata": {},
   "outputs": [
    {
     "name": "stdout",
     "output_type": "stream",
     "text": [
      "x_co_encoded.shape = (22500, 384)\n",
      "CPU times: user 1.76 s, sys: 102 ms, total: 1.87 s\n",
      "Wall time: 1.89 s\n"
     ]
    }
   ],
   "source": [
    "%%time\n",
    "class MiniLMEmbedding:\n",
    "    def __init__(self):\n",
    "        self.transformer = SentenceTransformer('paraphrase-MiniLM-L6-v2')\n",
    "    def encode(self, input_sentences: List[str]) -> np.array:\n",
    "        sentences = [sentence.lower() for sentence in input_sentences]\n",
    "        embedded_sentences = [self.embed_sentence(s) for s in sentences]\n",
    "        return np.array(embedded_sentences)\n",
    "    def embed_sentence(self, sentence: str) -> np.array:\n",
    "        embedding = self.transformer.encode(sentence, show_progress_bar=False, convert_to_numpy=True)\n",
    "        return embedding\n",
    "\n",
    "encoded_file = '../../../data/clinc150/x_co_encoded.csv'\n",
    "if os.path.exists(encoded_file):\n",
    "    df = pd.read_csv(encoded_file, header=None)\n",
    "    x_co_encoded = df.to_numpy()\n",
    "else:\n",
    "    encoder = MiniLMEmbedding()\n",
    "\n",
    "    start = time.time()\n",
    "    x_tr_encoded = encoder.encode(x_tr)\n",
    "    print(f'done tr dur={time.time() - start}')\n",
    "\n",
    "    start = time.time()\n",
    "    x_te_encoded = encoder.encode(x_te)\n",
    "    print(f'done te dur={time.time() - start}')\n",
    "\n",
    "    start = time.time()\n",
    "    x_va_encoded = encoder.encode(x_va)\n",
    "    print(f'done va dur={time.time() - start}')\n",
    "\n",
    "    start = time.time()\n",
    "    x_co_encoded = np.concatenate((x_tr_encoded, x_te_encoded, x_va_encoded))\n",
    "    print(f'done co dur={time.time() - start}')\n",
    "    start = time.time()\n",
    "\n",
    "    print(f'x_tr_encoded.shape = {x_tr_encoded.shape}')\n",
    "    print(f'x_te_encoded.shape = {x_te_encoded.shape}')\n",
    "    print(f'x_va_encoded.shape = {x_va_encoded.shape}')\n",
    "\n",
    "    # Save to file\n",
    "    df = pd.DataFrame(x_co_encoded)\n",
    "    df.to_csv(encoded_file, header=False, index=False)\n",
    "\n",
    "print(f'x_co_encoded.shape = {x_co_encoded.shape}')"
   ]
  },
  {
   "cell_type": "markdown",
   "id": "2b835b4f",
   "metadata": {},
   "source": [
    "#### Determine subset datasert for running experiment\n",
    "- keep_intents is generated in notebook:\n",
    "  - 'clinc 150 - filter accuracy ordered classes to 0.80 acc and 90 classes.ipynb'"
   ]
  },
  {
   "cell_type": "code",
   "execution_count": 5,
   "id": "85ff3604",
   "metadata": {},
   "outputs": [
    {
     "name": "stdout",
     "output_type": "stream",
     "text": [
      "len(keep_intents) = 90\n",
      "keep_intents = ['next_holiday', 'report_lost_card', 'current_location', 'nutrition_info', 'min_payment', 'w2', 'text', 'mpg', 'repeat', 'smart_home', 'who_made_you', 'freeze_account', 'weather', 'payday', 'where_are_you_from', 'fun_fact', 'travel_suggestion', 'ingredient_substitution', 'balance', 'how_old_are_you', 'meaning_of_life', 'schedule_meeting', 'cancel_reservation', 'meeting_schedule', 'pto_request_status', 'accept_reservations', 'pto_request', 'card_declined', 'no', 'time', 'order_status', 'cancel', 'directions', 'income', 'maybe', 'schedule_maintenance', 'what_song', 'gas', 'account_blocked', 'confirm_reservation', 'next_song', 'credit_limit_change', 'restaurant_suggestion', 'what_are_your_hobbies', 'gas_type', 'how_busy', 'change_volume', 'restaurant_reviews', 'share_location', 'spelling', 'expiration_date', 'translate', 'who_do_you_work_for', 'timer', 'bill_due', 'restaurant_reservation', 'whisper_mode', 'pay_bill', 'user_name', 'meal_suggestion', 'spending_history', 'replacement_card_duration', 'shopping_list_update', 'distance', 'yes', 'bill_balance', 'change_language', 'recipe', 'report_fraud', 'redeem_rewards', 'transactions', 'thank_you', 'greeting', 'calendar_update', 'pto_balance', 'what_is_your_name', 'reminder', 'order', 'play_music', 'reminder_update', 'make_call', 'calendar', 'todo_list_update', 'ingredients_list', 'goodbye', 'change_user_name', 'shopping_list', 'pto_used', 'change_ai_name', 'todo_list']\n",
      "len(keep_indices) = 13500\n",
      "y_sub.shape         = (13500,)\n",
      "x_sub_encoded.shape = (13500, 384)\n"
     ]
    }
   ],
   "source": [
    "keep_intents = ['next_holiday', 'report_lost_card', 'current_location', 'nutrition_info', 'min_payment', 'w2', 'text', 'mpg', 'repeat', 'smart_home', 'who_made_you', 'freeze_account', 'weather', 'payday', 'where_are_you_from', 'fun_fact', 'travel_suggestion', 'ingredient_substitution', 'balance', 'how_old_are_you', 'meaning_of_life', 'schedule_meeting', 'cancel_reservation', 'meeting_schedule', 'pto_request_status', 'accept_reservations', 'pto_request', 'card_declined', 'no', 'time', 'order_status', 'cancel', 'directions', 'income', 'maybe', 'schedule_maintenance', 'what_song', 'gas', 'account_blocked', 'confirm_reservation', 'next_song', 'credit_limit_change', 'restaurant_suggestion', 'what_are_your_hobbies', 'gas_type', 'how_busy', 'change_volume', 'restaurant_reviews', 'share_location', 'spelling', 'expiration_date', 'translate', 'who_do_you_work_for', 'timer', 'bill_due', 'restaurant_reservation', 'whisper_mode', 'pay_bill', 'user_name', 'meal_suggestion', 'spending_history', 'replacement_card_duration', 'shopping_list_update', 'distance', 'yes', 'bill_balance', 'change_language', 'recipe', 'report_fraud', 'redeem_rewards', 'transactions', 'thank_you', 'greeting', 'calendar_update', 'pto_balance', 'what_is_your_name', 'reminder', 'order', 'play_music', 'reminder_update', 'make_call', 'calendar', 'todo_list_update', 'ingredients_list', 'goodbye', 'change_user_name', 'shopping_list', 'pto_used', 'change_ai_name', 'todo_list']\n",
    "print(f'len(keep_intents) = {len(keep_intents)}')\n",
    "print(f'keep_intents = {list(keep_intents)}')\n",
    "# Gather the example indices for the examples to keep\n",
    "keep_indices = [i for i in range(len(y_co)) if y_co[i] in keep_intents]\n",
    "print(f'len(keep_indices) = {len(keep_indices)}')\n",
    "y_sub = y_co[keep_indices]\n",
    "x_sub_encoded = x_co_encoded[keep_indices]\n",
    "print(f'y_sub.shape         = {y_sub.shape}')\n",
    "print(f'x_sub_encoded.shape = {x_sub_encoded.shape}')"
   ]
  },
  {
   "cell_type": "markdown",
   "id": "7d6f1f54",
   "metadata": {},
   "source": [
    "#### Randomize the dataset\n",
    "- Train set is first 4,500 examples in randomized dataset.\n",
    "  - Mimics the size of the representative workspace\n",
    "- Remaining 9000 can be used to fit PP."
   ]
  },
  {
   "cell_type": "code",
   "execution_count": 6,
   "id": "9c6c5489",
   "metadata": {},
   "outputs": [
    {
     "name": "stdout",
     "output_type": "stream",
     "text": [
      "y_sub.shape         = (13500,)\n",
      "x_sub_encoded.shape = (13500, 384)\n",
      "y.shape             = (13500,)\n",
      "x.shape             = (13500, 384)\n",
      "y_train.shape = (4500,)\n",
      "x_train.shape = (4500, 384)\n",
      "y_test.shape  = (9000,)\n",
      "x_test.shape  = (9000, 384)\n"
     ]
    }
   ],
   "source": [
    "x, y = shuffle(x_sub_encoded, y_sub, random_state=42)\n",
    "print(f'y_sub.shape         = {y_sub.shape}')\n",
    "print(f'x_sub_encoded.shape = {x_sub_encoded.shape}')\n",
    "print(f'y.shape             = {y.shape}')\n",
    "print(f'x.shape             = {x.shape}')\n",
    "\n",
    "train_size = 4500\n",
    "# train_size = 500\n",
    "x_train = x[:train_size]\n",
    "y_train = y[:train_size]\n",
    "x_test = x[- (len(y) - train_size):]\n",
    "y_test = y[- (len(y) - train_size):]\n",
    "print(f'y_train.shape = {y_train.shape}')\n",
    "print(f'x_train.shape = {x_train.shape}')\n",
    "print(f'y_test.shape  = {y_test.shape}')\n",
    "print(f'x_test.shape  = {x_test.shape}')"
   ]
  },
  {
   "cell_type": "markdown",
   "id": "d6359ad7",
   "metadata": {},
   "source": [
    "#### Fit a basic SVM classifier"
   ]
  },
  {
   "cell_type": "code",
   "execution_count": 7,
   "id": "3725e357",
   "metadata": {
    "scrolled": true
   },
   "outputs": [
    {
     "name": "stdout",
     "output_type": "stream",
     "text": [
      "CPU times: user 24.6 s, sys: 107 ms, total: 24.8 s\n",
      "Wall time: 25.1 s\n"
     ]
    }
   ],
   "source": [
    "%%time\n",
    "def train_model_svm(x, y):\n",
    "    model = SVC(probability=True)\n",
    "    model.fit(x, y)    \n",
    "    return model\n",
    "\n",
    "model = train_model_svm(x_train, y_train)"
   ]
  },
  {
   "cell_type": "markdown",
   "id": "1cc817b8",
   "metadata": {},
   "source": [
    "#### Fit the Performance Predictor"
   ]
  },
  {
   "cell_type": "code",
   "execution_count": 8,
   "id": "0fc23c7e",
   "metadata": {},
   "outputs": [
    {
     "name": "stdout",
     "output_type": "stream",
     "text": [
      "dur=5.364193677902222 - svc_predict\n",
      "Predictor type : text_ensemble\n",
      "calibrator : isotonic_regression\n",
      "metamodels considered: {'svm': ['confidence_top', 'confidence_delta', 'confidence_entropy', 'class_frequency', 'mlp', 'svc'], 'gbm': ['confidence_top', 'confidence_delta', 'confidence_entropy', 'class_frequency', 'mlp', 'svc'], 'mlp': ['confidence_top', 'confidence_delta', 'confidence_entropy', 'class_frequency', 'mlp', 'svc']}\n",
      "Features extracted for : ['class_frequency', 'confidence_delta', 'confidence_entropy', 'confidence_top', 'mlp_1', 'mlp_2', 'svc_1', 'svc_2']\n",
      "['svm', 'gbm', 'mlp'] dur=659.5831859111786 - pp_fitted\n",
      "Incoming data is already encoded\n",
      "Features extracted for : ['class_frequency', 'confidence_delta', 'confidence_entropy', 'confidence_top', 'mlp_1', 'mlp_2', 'svc_1', 'svc_2']\n",
      "['svm', 'gbm', 'mlp'] dur=9.971309423446655 - pp_test_accuracy  = 0.921275791668722\n",
      "Predictor type : text_ensemble\n",
      "calibrator : isotonic_regression\n",
      "metamodels considered: {'svm': ['confidence_top', 'confidence_delta', 'confidence_entropy', 'class_frequency', 'mlp', 'svc']}\n",
      "Features extracted for : ['class_frequency', 'confidence_delta', 'confidence_entropy', 'confidence_top', 'mlp_1', 'mlp_2', 'svc_1', 'svc_2']\n",
      "['svm'] dur=450.05640172958374 - pp_fitted\n",
      "Incoming data is already encoded\n",
      "Features extracted for : ['class_frequency', 'confidence_delta', 'confidence_entropy', 'confidence_top', 'mlp_1', 'mlp_2', 'svc_1', 'svc_2']\n",
      "['svm'] dur=12.346719026565552 - pp_test_accuracy  = 0.9215663939203975\n",
      "Predictor type : text_ensemble\n",
      "calibrator : isotonic_regression\n",
      "metamodels considered: {'gbm': ['confidence_top', 'confidence_delta', 'confidence_entropy', 'class_frequency', 'mlp', 'svc']}\n",
      "Features extracted for : ['class_frequency', 'confidence_delta', 'confidence_entropy', 'confidence_top', 'mlp_1', 'mlp_2', 'svc_1', 'svc_2']\n",
      "['gbm'] dur=427.569207906723 - pp_fitted\n",
      "Incoming data is already encoded\n",
      "Features extracted for : ['class_frequency', 'confidence_delta', 'confidence_entropy', 'confidence_top', 'mlp_1', 'mlp_2', 'svc_1', 'svc_2']\n",
      "['gbm'] dur=9.646998405456543 - pp_test_accuracy  = 0.905980395940801\n",
      "Predictor type : text_ensemble\n",
      "calibrator : isotonic_regression\n",
      "metamodels considered: {'mlp': ['confidence_top', 'confidence_delta', 'confidence_entropy', 'class_frequency', 'mlp', 'svc']}\n",
      "Features extracted for : ['class_frequency', 'confidence_delta', 'confidence_entropy', 'confidence_top', 'mlp_1', 'mlp_2', 'svc_1', 'svc_2']\n",
      "['mlp'] dur=483.2767825126648 - pp_fitted\n",
      "Incoming data is already encoded\n",
      "Features extracted for : ['class_frequency', 'confidence_delta', 'confidence_entropy', 'confidence_top', 'mlp_1', 'mlp_2', 'svc_1', 'svc_2']\n",
      "['mlp'] dur=11.296207427978516 - pp_test_accuracy  = 0.919204000255054\n",
      "CPU times: user 10min 6s, sys: 6min 47s, total: 16min 54s\n",
      "Wall time: 34min 29s\n"
     ]
    }
   ],
   "source": [
    "%%time\n",
    "pointwise_features=['confidence_top', \n",
    "                    'confidence_delta', \n",
    "                    'confidence_entropy', \n",
    "#                     'gbm', \n",
    "                    'class_frequency', \n",
    "                    'mlp', \n",
    "                    'svc']\n",
    "metamodels_considered_options = [\n",
    "    {'svm': pointwise_features,\n",
    "     'gbm': pointwise_features, \n",
    "     'mlp': pointwise_features},\n",
    "    {'svm': pointwise_features},\n",
    "    {'gbm': pointwise_features},\n",
    "    {'mlp': pointwise_features},\n",
    "]\n",
    "\n",
    "test_size = 2000\n",
    "# test_size = 500\n",
    "x_tst = x_test[:test_size]\n",
    "y_tst = y_test[:test_size]\n",
    "\n",
    "start = time.time()\n",
    "svc_test_pred = model.predict(x_tst)\n",
    "print(f'dur={time.time() - start} - svc_predict')\n",
    "\n",
    "experiments = []\n",
    "for metamodels_considered in metamodels_considered_options:\n",
    "# for metamodels_considered in [metamodels_considered_options[0]]:\n",
    "    pp = ShortTextClassificationWrapper(base_model=model, calibrator='isotonic_regression', metamodels_considered=metamodels_considered)\n",
    "\n",
    "    # fit PP\n",
    "    start = time.time()\n",
    "    pp.fit(x_train, y_train, x_tst, y_tst)\n",
    "    print(f'{list(metamodels_considered.keys())} dur={time.time() - start} - pp_fitted')\n",
    "\n",
    "    start = time.time()\n",
    "    pp_test_accuracy, _, pp_test_score = pp.predict(x_tst)\n",
    "    print(f'{list(metamodels_considered.keys())} dur={time.time() - start} - pp_test_accuracy  = {pp_test_accuracy / 100}')\n",
    "\n",
    "    experiments.append({'metamodels_considered': list(metamodels_considered.keys()),\n",
    "                        'y_test': y_tst,\n",
    "                        'svc_test_pred': svc_test_pred,\n",
    "                        'pp_test_accuracy': pp_test_accuracy / 100,\n",
    "                        'pp_test_score': pp_test_score[0],\n",
    "                       })"
   ]
  },
  {
   "cell_type": "markdown",
   "id": "4209fc57",
   "metadata": {},
   "source": [
    "#### Summarize results"
   ]
  },
  {
   "cell_type": "code",
   "execution_count": 9,
   "id": "401a37ca",
   "metadata": {},
   "outputs": [],
   "source": [
    "def check_correctness(intents, y_predictions, y_scores, threshold=0.9):\n",
    "    n_correct = 0\n",
    "    true_high = 0\n",
    "    true_low = 0\n",
    "    false_high = 0\n",
    "    false_low = 0\n",
    "    n_y = len(intents)\n",
    "    for y, y_pred, y_score in zip(intents, y_predictions, y_scores):\n",
    "        if y == y_pred:\n",
    "            n_correct += 1\n",
    "            if y_score > threshold:\n",
    "                true_high += 1\n",
    "            else:\n",
    "                true_low += 1\n",
    "        else:\n",
    "            if y_score > threshold:\n",
    "                false_high += 1\n",
    "            else:\n",
    "                false_low += 1\n",
    "    acc = n_correct / n_y\n",
    "    th = true_high / n_y\n",
    "    tl = true_low / n_y\n",
    "    fh = false_high / n_y\n",
    "    fl = false_low / n_y\n",
    "\n",
    "    return acc, th, tl, fh, fl"
   ]
  },
  {
   "cell_type": "code",
   "execution_count": 10,
   "id": "29b8470c",
   "metadata": {},
   "outputs": [
    {
     "data": {
      "text/html": [
       "<table border=\"1\" class=\"dataframe\">\n",
       "  <thead>\n",
       "    <tr style=\"text-align: right;\">\n",
       "      <th></th>\n",
       "      <th>metamodels considered</th>\n",
       "      <th>pp fit size</th>\n",
       "      <th>svc accuracy</th>\n",
       "      <th>pp accuracy</th>\n",
       "      <th>TH</th>\n",
       "      <th>TL</th>\n",
       "      <th>FH</th>\n",
       "      <th>FL</th>\n",
       "      <th>AUC</th>\n",
       "    </tr>\n",
       "  </thead>\n",
       "  <tbody>\n",
       "    <tr>\n",
       "      <th>0</th>\n",
       "      <td>[svm, gbm, mlp]</td>\n",
       "      <td>2000</td>\n",
       "      <td>92.50%</td>\n",
       "      <td>92.13%</td>\n",
       "      <td>78.70%</td>\n",
       "      <td>13.80%</td>\n",
       "      <td>0.10%</td>\n",
       "      <td>7.40%</td>\n",
       "      <td>97.53%</td>\n",
       "    </tr>\n",
       "    <tr>\n",
       "      <th>1</th>\n",
       "      <td>[svm]</td>\n",
       "      <td>2000</td>\n",
       "      <td>92.50%</td>\n",
       "      <td>92.16%</td>\n",
       "      <td>85.35%</td>\n",
       "      <td>7.15%</td>\n",
       "      <td>0.70%</td>\n",
       "      <td>6.80%</td>\n",
       "      <td>94.28%</td>\n",
       "    </tr>\n",
       "    <tr>\n",
       "      <th>2</th>\n",
       "      <td>[gbm]</td>\n",
       "      <td>2000</td>\n",
       "      <td>92.50%</td>\n",
       "      <td>90.60%</td>\n",
       "      <td>79.30%</td>\n",
       "      <td>13.20%</td>\n",
       "      <td>0.15%</td>\n",
       "      <td>7.35%</td>\n",
       "      <td>98.93%</td>\n",
       "    </tr>\n",
       "    <tr>\n",
       "      <th>3</th>\n",
       "      <td>[mlp]</td>\n",
       "      <td>2000</td>\n",
       "      <td>92.50%</td>\n",
       "      <td>91.92%</td>\n",
       "      <td>74.05%</td>\n",
       "      <td>18.45%</td>\n",
       "      <td>0.60%</td>\n",
       "      <td>6.90%</td>\n",
       "      <td>91.11%</td>\n",
       "    </tr>\n",
       "  </tbody>\n",
       "</table>"
      ],
      "text/plain": [
       "<IPython.core.display.HTML object>"
      ]
     },
     "metadata": {},
     "output_type": "display_data"
    },
    {
     "data": {
      "image/png": "[encoded data removed]",
      "text/plain": [
       "<Figure size 432x288 with 1 Axes>"
      ]
     },
     "metadata": {
      "needs_background": "light"
     },
     "output_type": "display_data"
    }
   ],
   "source": [
    "plt.figure()\n",
    "data = []\n",
    "for e in experiments:\n",
    "    y_true = [1 if y==p else 0 for y,p in zip(e['y_test'], e['svc_test_pred'])]\n",
    "    fpr, tpr, thresholds = roc_curve(y_true, e['pp_test_score'], pos_label=1)\n",
    "    auc = roc_auc_score(y_true, e['pp_test_score'])\n",
    "    plt.plot(fpr, tpr, label=f'{auc:.2%} - {e[\"metamodels_considered\"]}')\n",
    "\n",
    "    acc, th, tl, fh, fl = check_correctness(e['y_test'],  e['svc_test_pred'],  e['pp_test_score'])\n",
    "    data.append({'metamodels considered': e['metamodels_considered'],\n",
    "                 'pp fit size': len(e['y_test']),\n",
    "                 'svc accuracy': acc,\n",
    "                 'pp accuracy': e['pp_test_accuracy'],\n",
    "                 'TH': th,\n",
    "                 'TL': tl,\n",
    "                 'FH': fh,\n",
    "                 'FL': fl,\n",
    "                 'AUC': auc,\n",
    "    })\n",
    "    \n",
    "pct_fmt = '{:,.2%}'.format\n",
    "fmt = {col: pct_fmt for col in ['svc accuracy', 'pp accuracy', 'TH', 'TL', 'FH', 'FL', 'AUC']}\n",
    "display(HTML(pd.DataFrame(data).to_html(formatters=fmt)))\n",
    "\n",
    "plt.title('Receiver Operating Characteristic')\n",
    "plt.legend(loc='lower right')\n",
    "plt.ylabel('True Positive Rate')\n",
    "plt.xlabel('False Positive Rate')\n",
    "plt.show()"
   ]
  },
  {
   "cell_type": "code",
   "execution_count": null,
   "id": "18644f82",
   "metadata": {},
   "outputs": [],
   "source": []
  }
 ],
 "metadata": {
  "kernelspec": {
   "display_name": "Python 3 (ipykernel)",
   "language": "python",
   "name": "python3"
  },
  "language_info": {
   "codemirror_mode": {
    "name": "ipython",
    "version": 3
   },
   "file_extension": ".py",
   "mimetype": "text/x-python",
   "name": "python",
   "nbconvert_exporter": "python",
   "pygments_lexer": "ipython3",
   "version": "3.10.4"
  }
 },
 "nbformat": 4,
 "nbformat_minor": 5
}
