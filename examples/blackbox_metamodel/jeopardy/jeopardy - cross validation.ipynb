{
 "cells": [
  {
   "cell_type": "markdown",
   "id": "757faaca",
   "metadata": {},
   "source": [
    "# Cross validation of the Jeopardy dataset\n",
    "- Determine if the Jeopardy dataset can be used similar to mimic what is seen in representative dataset when running Performance Predictor"
   ]
  },
  {
   "cell_type": "code",
   "execution_count": 7,
   "id": "e0a022d4",
   "metadata": {},
   "outputs": [
    {
     "name": "stdout",
     "output_type": "stream",
     "text": [
      "The autoreload extension is already loaded. To reload it, use:\n",
      "  %reload_ext autoreload\n"
     ]
    },
    {
     "data": {
      "text/html": [
       "<style>.container { width:100% !important; }</style>"
      ],
      "text/plain": [
       "<IPython.core.display.HTML object>"
      ]
     },
     "metadata": {},
     "output_type": "display_data"
    }
   ],
   "source": [
    "import collections\n",
    "import gzip\n",
    "from IPython.display import display, HTML\n",
    "import json\n",
    "import numpy as np\n",
    "import os\n",
    "import pandas as pd\n",
    "from sentence_transformers import SentenceTransformer\n",
    "from sklearn.model_selection import StratifiedKFold\n",
    "from sklearn.svm import SVC\n",
    "import time\n",
    "from typing import List\n",
    "\n",
    "pd.options.display.max_colwidth = 100\n",
    "\n",
    "%load_ext autoreload\n",
    "%autoreload 2\n",
    "\n",
    "# Increase the width of the notebook so that it is the width of the browser \n",
    "# which allows larger size for the dashboard\n",
    "display(HTML('<style>.container { width:100% !important; }</style>'))"
   ]
  },
  {
   "cell_type": "markdown",
   "id": "07e2c6cb",
   "metadata": {},
   "source": [
    "#### Load workspace dataset"
   ]
  },
  {
   "cell_type": "code",
   "execution_count": 8,
   "id": "618becfc",
   "metadata": {},
   "outputs": [
    {
     "name": "stdout",
     "output_type": "stream",
     "text": [
      "file not found = ../../../data/jeopardy/jeopardy_200.csv\n",
      "len(top_intents) = 201\n",
      "n_intents   = 200\n",
      "df_ws.shape = (32623, 2)\n"
     ]
    }
   ],
   "source": [
    "csv_file = '../../../data/jeopardy/jeopardy_200.csv'\n",
    "if os.path.exists(csv_file):\n",
    "    df_ws = pd.read_csv(csv_file)\n",
    "else:\n",
    "    print(f'file not found = {csv_file}')\n",
    "    # Load the json file\n",
    "    json_gzip_file = '../../../data/jeopardy/JEOPARDY_QUESTIONS1.json.gzip'\n",
    "    with gzip.open(json_gzip_file, 'r') as fin:\n",
    "        questions_list = json.loads(fin.read().decode('utf-8'))\n",
    "    \n",
    "    # Gather the most common categories\n",
    "    categories = collections.Counter([q[\"category\"] for q in questions_list])\n",
    "    common_categories = categories.most_common(201)\n",
    "    top_intents = [c[0] for c in common_categories]\n",
    "    print(f'len(top_intents) = {len(top_intents)}')\n",
    "\n",
    "    # Create the example and intent from the top most categories.\n",
    "    # Note: category 'CROSSWORD CLUES \"F\"' is composed of questions with '<' \n",
    "    #       thus get 201 categories to end up with 200\n",
    "    data = []\n",
    "    for q in questions_list:\n",
    "        if '<' not in q['question'] and '<' not in q['answer'] and q['category'] in top_intents:\n",
    "            data.append({'intent': q['category'].replace('&', 'AND'), 'example': f'{q[\"question\"]} {q[\"answer\"]}'})\n",
    "    df_ws = pd.DataFrame(data)\n",
    "    df_ws.to_csv(csv_file, index=False)\n",
    "\n",
    "print(f'n_intents   = {len(df_ws[\"intent\"].unique())}')\n",
    "print(f'df_ws.shape = {df_ws.shape}')\n",
    "# display(HTML(df_ws.head().to_html()))"
   ]
  },
  {
   "cell_type": "code",
   "execution_count": 3,
   "id": "d8c92651",
   "metadata": {},
   "outputs": [
    {
     "name": "stdout",
     "output_type": "stream",
     "text": [
      "x.shape        = (32623,)\n",
      "y.shape        = (32623,)\n"
     ]
    }
   ],
   "source": [
    "x = df_ws['example'].to_numpy()\n",
    "y = df_ws['intent'].to_numpy().ravel()\n",
    "print(f'x.shape        = {x.shape}')\n",
    "print(f'y.shape        = {y.shape}')"
   ]
  },
  {
   "cell_type": "markdown",
   "id": "e43fd54e",
   "metadata": {},
   "source": [
    "#### Encode with USE encoder"
   ]
  },
  {
   "cell_type": "code",
   "execution_count": 4,
   "id": "36374450",
   "metadata": {},
   "outputs": [
    {
     "name": "stdout",
     "output_type": "stream",
     "text": [
      "x_encoded.shape = (32623, 384)\n",
      "CPU times: user 1h 45min 38s, sys: 10.2 s, total: 1h 45min 48s\n",
      "Wall time: 18min 31s\n"
     ]
    }
   ],
   "source": [
    "%%time\n",
    "class MiniLMEmbedding:\n",
    "    def __init__(self):\n",
    "        self.transformer = SentenceTransformer('paraphrase-MiniLM-L6-v2')\n",
    "    def encode(self, input_sentences: List[str]) -> np.array:\n",
    "        sentences = [sentence.lower() for sentence in input_sentences]\n",
    "        embedded_sentences = [self.embed_sentence(s) for s in sentences]\n",
    "        return np.array(embedded_sentences)\n",
    "    def embed_sentence(self, sentence: str) -> np.array:\n",
    "        embedding = self.transformer.encode(sentence, show_progress_bar=False, convert_to_numpy=True)\n",
    "        return embedding\n",
    "\n",
    "encoded_file = '../../../data/jeopardy/jeopardy_200_x_encoded.csv'\n",
    "if os.path.exists(encoded_file):\n",
    "    df = pd.read_csv(encoded_file, header=None)\n",
    "    x_encoded = df.to_numpy()\n",
    "else:\n",
    "    encoder = MiniLMEmbedding()\n",
    "    x_encoded = encoder.encode(x)\n",
    "    # Save to file\n",
    "    df = pd.DataFrame(x_encoded)\n",
    "    df.to_csv(encoded_file, header=False, index=False)\n",
    "\n",
    "print(f'x_encoded.shape = {x_encoded.shape}')"
   ]
  },
  {
   "cell_type": "markdown",
   "id": "fe8f6393",
   "metadata": {},
   "source": [
    "#### Run a cross validation on SVM classifiers\n",
    "- Split the combined (x_encoded) dataset into 7 splits\n",
    "- Each train (x_trn) is 4650 (32,549/7)\n",
    "- Each test (x_tst) is 27,899 (32,549 * 6/7)\n",
    "- Score the accuracy of each cross split\n",
    "  - Normally you'd test against the test of each split (x_tst)\n",
    "  - But in this case test against each dataset \n",
    "     - split train (x_trn)\n",
    "     - split test (x_tst)\n",
    "     - original x (x)\n",
    "  - This is done to see if any of the datasets have problems, e.g. one has a very low score compared to the others."
   ]
  },
  {
   "cell_type": "code",
   "execution_count": 5,
   "id": "8dfb001e",
   "metadata": {},
   "outputs": [
    {
     "name": "stdout",
     "output_type": "stream",
     "text": [
      "0 fit()  dur=49.67365837097168\n",
      "0 scores dur=253.6580126285553\n",
      "1 fit()  dur=47.113123178482056\n",
      "1 scores dur=262.2241997718811\n",
      "2 fit()  dur=48.70595026016235\n",
      "2 scores dur=270.25928950309753\n",
      "3 fit()  dur=42.8117880821228\n",
      "3 scores dur=268.46670508384705\n",
      "4 fit()  dur=49.04321646690369\n",
      "4 scores dur=275.95526814460754\n",
      "5 fit()  dur=48.880475759506226\n",
      "5 scores dur=280.79315996170044\n",
      "6 fit()  dur=54.80375599861145\n",
      "6 scores dur=252.6621551513672\n",
      "CPU times: user 36min 44s, sys: 595 ms, total: 36min 45s\n",
      "Wall time: 36min 45s\n"
     ]
    }
   ],
   "source": [
    "%%time\n",
    "\n",
    "skf = StratifiedKFold(n_splits=7, random_state=42, shuffle=True)\n",
    "\n",
    "runs = []\n",
    "run = 0\n",
    "# reverse the normal train/test split sizes.\n",
    "# Keep the train small and the test large\n",
    "# So the trains are similar in size to the representative dataset\n",
    "for tst_index, trn_index in skf.split(x_encoded, y):\n",
    "    x_trn = x_encoded[trn_index]\n",
    "    x_tst = x_encoded[tst_index]\n",
    "    y_trn = y[trn_index]\n",
    "    y_tst = y[tst_index]\n",
    "    start = time.time()\n",
    "    model = SVC(probability=True, random_state=42)\n",
    "    model.fit(x_trn, y_trn)\n",
    "    print(f'{run} fit()  dur={time.time() - start}')\n",
    "    start = time.time()\n",
    "    runs.append({\n",
    "        'run':     run,\n",
    "        'trn_acc': f'{model.score(x_trn, y_trn):.0%}',\n",
    "        'tst_acc': f'{model.score(x_tst, y_tst):.0%}',\n",
    "        'x_acc':  f'{model.score(x_encoded, y):.0%}',\n",
    "    })\n",
    "    print(f'{run} scores dur={time.time() - start}')\n",
    "    run += 1"
   ]
  },
  {
   "cell_type": "code",
   "execution_count": 6,
   "id": "71c1edfb",
   "metadata": {},
   "outputs": [
    {
     "data": {
      "text/html": [
       "<table border=\"1\" class=\"dataframe\">\n",
       "  <thead>\n",
       "    <tr style=\"text-align: right;\">\n",
       "      <th></th>\n",
       "      <th>run</th>\n",
       "      <th>trn_acc</th>\n",
       "      <th>tst_acc</th>\n",
       "      <th>x_acc</th>\n",
       "    </tr>\n",
       "  </thead>\n",
       "  <tbody>\n",
       "    <tr>\n",
       "      <th>0</th>\n",
       "      <td>0</td>\n",
       "      <td>82%</td>\n",
       "      <td>28%</td>\n",
       "      <td>36%</td>\n",
       "    </tr>\n",
       "    <tr>\n",
       "      <th>1</th>\n",
       "      <td>1</td>\n",
       "      <td>82%</td>\n",
       "      <td>28%</td>\n",
       "      <td>36%</td>\n",
       "    </tr>\n",
       "    <tr>\n",
       "      <th>2</th>\n",
       "      <td>2</td>\n",
       "      <td>81%</td>\n",
       "      <td>28%</td>\n",
       "      <td>36%</td>\n",
       "    </tr>\n",
       "    <tr>\n",
       "      <th>3</th>\n",
       "      <td>3</td>\n",
       "      <td>81%</td>\n",
       "      <td>28%</td>\n",
       "      <td>35%</td>\n",
       "    </tr>\n",
       "    <tr>\n",
       "      <th>4</th>\n",
       "      <td>4</td>\n",
       "      <td>83%</td>\n",
       "      <td>28%</td>\n",
       "      <td>36%</td>\n",
       "    </tr>\n",
       "    <tr>\n",
       "      <th>5</th>\n",
       "      <td>5</td>\n",
       "      <td>83%</td>\n",
       "      <td>28%</td>\n",
       "      <td>36%</td>\n",
       "    </tr>\n",
       "    <tr>\n",
       "      <th>6</th>\n",
       "      <td>6</td>\n",
       "      <td>81%</td>\n",
       "      <td>28%</td>\n",
       "      <td>36%</td>\n",
       "    </tr>\n",
       "  </tbody>\n",
       "</table>"
      ],
      "text/plain": [
       "<IPython.core.display.HTML object>"
      ]
     },
     "metadata": {},
     "output_type": "display_data"
    }
   ],
   "source": [
    "df = pd.DataFrame(runs)\n",
    "display(HTML(df.to_html()))\n",
    "# 7 split cross validation\n",
    "# run trn_acc tst_acc x_acc\n",
    "# --- ------- ------- -----\n",
    "#   0     82%     28%   36%\n",
    "#   1     82%     28%   36%\n",
    "#   2     81%     28%   36%\n",
    "#   3     81%     28%   35%\n",
    "#   4     83%     28%   36%\n",
    "#   5     83%     28%   36%\n",
    "#   6     81%     28%   36%"
   ]
  },
  {
   "cell_type": "code",
   "execution_count": null,
   "id": "5c8677e8",
   "metadata": {},
   "outputs": [],
   "source": []
  }
 ],
 "metadata": {
  "kernelspec": {
   "display_name": "Python 3 (ipykernel)",
   "language": "python",
   "name": "python3"
  },
  "language_info": {
   "codemirror_mode": {
    "name": "ipython",
    "version": 3
   },
   "file_extension": ".py",
   "mimetype": "text/x-python",
   "name": "python",
   "nbconvert_exporter": "python",
   "pygments_lexer": "ipython3",
   "version": "3.10.4"
  }
 },
 "nbformat": 4,
 "nbformat_minor": 5
}
