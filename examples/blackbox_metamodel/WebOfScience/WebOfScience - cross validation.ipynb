{
 "cells": [
  {
   "cell_type": "markdown",
   "id": "757faaca",
   "metadata": {},
   "source": [
    "# Cross validation of the Web Of Science dataset\n",
    "- Determine if the Web Of Science dataset can be used similar to mimic what is seen in representative dataset when running Performance Predictor\n",
    "- Web Of Science has 3 datasets:\n",
    "  - Web of Science Dataset WOS-11967\n",
    "    - This dataset contains 11,967 documents with 35 categories which include 7 parents categories.\n",
    "  - Web of Science Dataset WOS-46985\n",
    "    - This dataset contains 46,985 documents with 134 categories which include 7 parents categories.\n",
    "  - Web of Science Dataset WOS-5736\n",
    "    - This dataset contains 5,736 documents with 11 categories which include 3 parents categories.\n",
    "\n",
    "- WOS-46985 has 134 intents (need 92 to mimic)\n",
    "- WOS-46985 has 1 datasets with 100 intents (20 super intents)\n",
    "  - train (tn)\n",
    "  - test (te)\n",
    "- run a cross validation on the combined (co) dataset to get the accuracies on a trained svm classifier.\n",
    "- check the accuracies across the splits to see if it is consistent."
   ]
  },
  {
   "cell_type": "code",
   "execution_count": 1,
   "id": "e0a022d4",
   "metadata": {},
   "outputs": [
    {
     "data": {
      "text/html": [
       "<style>.container { width:100% !important; }</style>"
      ],
      "text/plain": [
       "<IPython.core.display.HTML object>"
      ]
     },
     "metadata": {},
     "output_type": "display_data"
    }
   ],
   "source": [
    "import gzip\n",
    "from IPython.display import display, HTML\n",
    "import numpy as np\n",
    "import os\n",
    "import pandas as pd\n",
    "from sentence_transformers import SentenceTransformer\n",
    "from sklearn.model_selection import StratifiedKFold\n",
    "from sklearn.svm import SVC\n",
    "import time\n",
    "from typing import List\n",
    "\n",
    "pd.options.display.max_colwidth = 100\n",
    "\n",
    "%load_ext autoreload\n",
    "%autoreload 2\n",
    "\n",
    "# Increase the width of the notebook so that it is the width of the browser \n",
    "# which allows larger size for the dashboard\n",
    "display(HTML('<style>.container { width:100% !important; }</style>'))"
   ]
  },
  {
   "cell_type": "markdown",
   "id": "07e2c6cb",
   "metadata": {},
   "source": [
    "#### Load workspace dataset"
   ]
  },
  {
   "cell_type": "code",
   "execution_count": 2,
   "id": "e66c3cf9",
   "metadata": {},
   "outputs": [
    {
     "name": "stdout",
     "output_type": "stream",
     "text": [
      "df_x.shape     = (46985, 1)\n",
      "df_y.shape     = (46985, 1)\n",
      "df_yl1.shape   = (46985, 1)\n",
      "df_yl2.shape   = (46985, 1)\n",
      "\n",
      "n uniq y       = 134\n",
      "min n uniq y   = 43\n",
      "max n uniq y   = 750\n",
      "n uniq yl1     = 7\n",
      "min n uniq yl1 = 3297\n",
      "max n uniq yl1 = 14625\n",
      "n uniq yl2     = 53\n",
      "df_merge.shape = (46985, 2)\n",
      "x.shape        = (46985,)\n",
      "y.shape        = (46985,)\n"
     ]
    },
    {
     "data": {
      "text/html": [
       "<table border=\"1\" class=\"dataframe\">\n",
       "  <thead>\n",
       "    <tr style=\"text-align: right;\">\n",
       "      <th></th>\n",
       "      <th>example</th>\n",
       "      <th>intent</th>\n",
       "    </tr>\n",
       "  </thead>\n",
       "  <tbody>\n",
       "    <tr>\n",
       "      <th>0</th>\n",
       "      <td>(2 + 1)-dimensional non-linear optical waves through the coherently excited resonant medium doped with the erbium atoms can be described by a (2 + 1)-dimensional non-linear Schrodinger equation coupled with the self-induced transparency equations. For such a system, via the Hirota method and symbolic computation, linear forms, one-, two-and N-soliton solutions are obtained. Asymptotic analysis is conducted and suggests that the interaction between the two solitons is elastic. Bright solitons are obtained for the fields E and P, while the dark ones for the field N, with E as the electric field, P as the polarization in the resonant medium induced by the electric field, and N as the population inversion profile of the dopant atoms. Head-on interaction between the bidirectional two solitons and overtaking interaction between the unidirectional two solitons are seen. Influence of the averaged natural frequency. on the solitons are studied: (1). can affect the velocities of all the solitons; (2) Amplitudes of the solitons for the fields P and N increase with. decreasing, and decrease with. increasing; (3) With. decreasing, for the fields P and N, one-peak one soliton turns into the two-peak one, as well as interaction type changes from the interaction between two one-peak ones to that between a one-peak one and a two-peak one; (4) For the field E, influence of. on the solitons cannot be found. The results of this paper might be of potential applications in the design of optical communication systems which can produce the bright and dark solitons simultaneously.\\n</td>\n",
       "      <td>12</td>\n",
       "    </tr>\n",
       "    <tr>\n",
       "      <th>1</th>\n",
       "      <td>(beta-amyloid (A beta) and tau pathology become increasingly prevalent with age, however, the spatial relationship between the two pathologies remains unknown. We examined local (same region) and non-local (different region) associations between these 2 aggregated proteins in 46 normal older adults using [F-18]AV-1451 (for tau) and [C-11]PiB (for A beta) positron emission tomography (PET) and 1.5 T magnetic resonance imaging (MRI) images. While local voxelwise analyses showed associations between PiB and AV-1451 tracer largely in the temporal lobes, k-means clustering revealed that some of these associations were driven by regions with low tracer retention. We followed this up with a whole-brain region-by-region (local and non-local) partial correlational analysis. We calculated each participant's mean AV-1451 and PiB uptake values within 87 regions of interest (ROI). Pairwise ROI analysis demonstrated many positive PiB AV-1451 associations. Importantly, strong positive partial correlations (controlling for age, sex, and global gray matter fraction, p &lt;.01) were identified between PiB in multiple regions of association cortex and AV-1451 in temporal cortical ROIs. There were also less frequent and weaker positive associations of regional PiB with frontoparietal AV-1451 uptake. Particularly in temporal lobe ROIs, AV-1451 uptake was strongly predicted by NB across multiple ROI locations. These data indicate that A beta and tau pathology show significant local and non-local regional associations among cognitively normal elderly, with increased PiB uptake throughout the cortex correlating with increased temporal lobe AV-1451 uptake. The spatial relationship between A beta and tau accumulation does not appear to be specific to A beta location, suggesting a regional vulnerability of temporal brain regions to tau accumulation regardless of where AP accumulates.\\n</td>\n",
       "      <td>74</td>\n",
       "    </tr>\n",
       "    <tr>\n",
       "      <th>2</th>\n",
       "      <td>(D)ecreasing of energy consumption and environmentally friendly energy resources are the issues in the foreground nowadays. As the electric energy consumed for the illumination is high, long-lasting and low-consumption LED (light-emitting diode) technology gets prominent. There have been made much reseacrh regarding the use of photovoltaic sytems in meeting the energy demand in housing and industry. However, there is need for more research with regards to photovoltaic sytems' integration with energy efficiency sytems. In this study, for the environments which have different lighting levels due to daylight factor, there has been proposed a low-cost PV (photovoltaics) based and distributed sensor smart LED illuminating system and there has been acquired 72.075% more energy saving in comparison with conventional LED illuminating system. (C) 2017 Elsevier Inc. All rights reserved.\\n</td>\n",
       "      <td>68</td>\n",
       "    </tr>\n",
       "    <tr>\n",
       "      <th>3</th>\n",
       "      <td>(Hybrid) electric vehicles are assumed to play a major role in future mobility concepts. Although sales numbers are increasing, little emphasis has been laid on the recycling of some key components such as power electronics or electric motors. Permanent magnet synchronous motors contain considerable amounts of rare earth elements that cannot be recovered in conventional recycling routes. Although their recycling could have large economic, environmental, and strategic advantages, no industrial recycling for permanent magnets is available in western countries at the moment. Regarding the essential steps, dismantling of electric vehicles as well as the extraction of magnets from the rotors, little has been published before. This paper therefore presents and discusses different recycling approaches for the recycling of NdFeB magnets from (hybrid) electric vehicles. Many results stem from the German research project \"Recycling of components and strategic metals of electric drive motors.\".\\n</td>\n",
       "      <td>26</td>\n",
       "    </tr>\n",
       "  </tbody>\n",
       "</table>"
      ],
      "text/plain": [
       "<IPython.core.display.HTML object>"
      ]
     },
     "metadata": {},
     "output_type": "display_data"
    },
    {
     "name": "stdout",
     "output_type": "stream",
     "text": [
      "CPU times: user 320 ms, sys: 71.9 ms, total: 392 ms\n",
      "Wall time: 418 ms\n"
     ]
    }
   ],
   "source": [
    "%%time\n",
    "# X is input data that include text sequences \n",
    "# Y is target value \n",
    "# YL1 is target value of level one (parent label)\n",
    "# YL2 is target value of level one (child label)\n",
    "x_gzip_file = '../../../data/WebOfScience/WebOfScience/WOS46985/X.txt.gzip'\n",
    "y_file = '../../../data/WebOfScience/WebOfScience/WOS46985/Y.txt'\n",
    "yl1_file = '../../../data/WebOfScience/WebOfScience/WOS46985/YL1.txt'\n",
    "yl2_file = '../../../data/WebOfScience/WebOfScience/WOS46985/YL2.txt'\n",
    "\n",
    "with gzip.open(x_gzip_file, 'rt') as f:\n",
    "    lines = f.readlines()\n",
    "df_x = pd.DataFrame(lines, columns=['example'])\n",
    "df_y = pd.read_csv(y_file, header=None, names=['intent'])\n",
    "df_yl1 = pd.read_csv(yl1_file, header=None, names=['yl1'])\n",
    "df_yl2 = pd.read_csv(yl2_file, header=None, names=['yl2'])\n",
    "print(f'df_x.shape     = {df_x.shape}')\n",
    "print(f'df_y.shape     = {df_y.shape}')\n",
    "print(f'df_yl1.shape   = {df_yl1.shape}')\n",
    "print(f'df_yl2.shape   = {df_yl2.shape}')\n",
    "print()\n",
    "print(f'n uniq y       = {len(np.unique(df_y[\"intent\"]))}')\n",
    "print(f'min n uniq y   = {min(np.unique(df_y[\"intent\"], return_counts=True)[1])}')\n",
    "print(f'max n uniq y   = {max(np.unique(df_y[\"intent\"], return_counts=True)[1])}')\n",
    "print(f'n uniq yl1     = {len(np.unique(df_yl1[\"yl1\"]))}')\n",
    "print(f'min n uniq yl1 = {min(np.unique(df_yl1[\"yl1\"], return_counts=True)[1])}')\n",
    "print(f'max n uniq yl1 = {max(np.unique(df_yl1[\"yl1\"], return_counts=True)[1])}')\n",
    "print(f'n uniq yl2     = {len(np.unique(df_yl2[\"yl2\"]))}')\n",
    "\n",
    "df_merge = pd.concat([df_x, df_y], axis=1, sort=False)\n",
    "print(f'df_merge.shape = {df_merge.shape}')\n",
    "\n",
    "x = df_merge['example'].to_numpy()\n",
    "y = df_merge['intent'].to_numpy().ravel()\n",
    "print(f'x.shape        = {x.shape}')\n",
    "print(f'y.shape        = {y.shape}')\n",
    "\n",
    "display(HTML(df_merge.head(4).to_html()))"
   ]
  },
  {
   "cell_type": "markdown",
   "id": "98d53f9b",
   "metadata": {},
   "source": [
    "#### Encode with USE encoder"
   ]
  },
  {
   "cell_type": "code",
   "execution_count": 3,
   "id": "cb32bade",
   "metadata": {},
   "outputs": [
    {
     "name": "stdout",
     "output_type": "stream",
     "text": [
      "x_encoded.shape = (46985, 384)\n",
      "CPU times: user 8.58 s, sys: 401 ms, total: 8.98 s\n",
      "Wall time: 10.6 s\n"
     ]
    }
   ],
   "source": [
    "%%time\n",
    "class MiniLMEmbedding:\n",
    "    def __init__(self):\n",
    "        self.transformer = SentenceTransformer('paraphrase-MiniLM-L6-v2')\n",
    "    def encode(self, input_sentences: List[str]) -> np.array:\n",
    "        sentences = [sentence.lower() for sentence in input_sentences]\n",
    "        embedded_sentences = [self.embed_sentence(s) for s in sentences]\n",
    "        return np.array(embedded_sentences)\n",
    "    def embed_sentence(self, sentence: str) -> np.array:\n",
    "        embedding = self.transformer.encode(sentence, show_progress_bar=False, convert_to_numpy=True)\n",
    "        return embedding\n",
    "\n",
    "encoded_file = '../../../data/WebOfScience/WebOfScience/WOS46985/X_encoded.csv'\n",
    "if os.path.exists(encoded_file):\n",
    "    df = pd.read_csv(encoded_file, header=None)\n",
    "    x_encoded = df.to_numpy()\n",
    "else:\n",
    "    encoder = MiniLMEmbedding()\n",
    "    x_encoded = encoder.encode(x)\n",
    "    # Save to file\n",
    "    df = pd.DataFrame(x_encoded)\n",
    "    df.to_csv(encoded_file, header=False, index=False)\n",
    "\n",
    "print(f'x_encoded.shape = {x_encoded.shape}')"
   ]
  },
  {
   "cell_type": "markdown",
   "id": "d6359ad7",
   "metadata": {},
   "source": [
    "#### Run a cross validation on SVM classifiers\n",
    "- Split the combined (x_encoded) dataset into 10 splits\n",
    "- Each train (x_trn) is 4699 (46,985/10)\n",
    "- Each test (x_tst) is 42,287 (46,985 * 9/10)\n",
    "- Score the accuracy of each cross split\n",
    "  - Normally you'd test against the test of each split (x_tst)\n",
    "  - But in this case test against each dataset \n",
    "     - split train (x_trn)\n",
    "     - split test (x_tst)\n",
    "     - original x (x)\n",
    "  - This is done to see if any of the datasets have problems, e.g. one has a very low score compared to the others.\n",
    "  - split train (x_trn) has a high accuracy 99%\n",
    "  - Other datasets have similar accuracies 93% to 95%."
   ]
  },
  {
   "cell_type": "code",
   "execution_count": 4,
   "id": "3226a399",
   "metadata": {},
   "outputs": [
    {
     "name": "stdout",
     "output_type": "stream",
     "text": [
      "fit() dur=424.9942283630371\n",
      "score()s dur=974.2140498161316\n"
     ]
    },
    {
     "data": {
      "text/html": [
       "<table border=\"1\" class=\"dataframe\">\n",
       "  <thead>\n",
       "    <tr style=\"text-align: right;\">\n",
       "      <th></th>\n",
       "      <th>run</th>\n",
       "      <th>trn_acc</th>\n",
       "      <th>tst_acc</th>\n",
       "      <th>x_acc</th>\n",
       "    </tr>\n",
       "  </thead>\n",
       "  <tbody>\n",
       "    <tr>\n",
       "      <th>0</th>\n",
       "      <td>0</td>\n",
       "      <td>86%</td>\n",
       "      <td>51%</td>\n",
       "      <td>58%</td>\n",
       "    </tr>\n",
       "  </tbody>\n",
       "</table>"
      ],
      "text/plain": [
       "<IPython.core.display.HTML object>"
      ]
     },
     "metadata": {},
     "output_type": "display_data"
    },
    {
     "name": "stdout",
     "output_type": "stream",
     "text": [
      "fit() dur=188.7138111591339\n",
      "score()s dur=897.379034280777\n"
     ]
    },
    {
     "data": {
      "text/html": [
       "<table border=\"1\" class=\"dataframe\">\n",
       "  <thead>\n",
       "    <tr style=\"text-align: right;\">\n",
       "      <th></th>\n",
       "      <th>run</th>\n",
       "      <th>trn_acc</th>\n",
       "      <th>tst_acc</th>\n",
       "      <th>x_acc</th>\n",
       "    </tr>\n",
       "  </thead>\n",
       "  <tbody>\n",
       "    <tr>\n",
       "      <th>0</th>\n",
       "      <td>0</td>\n",
       "      <td>86%</td>\n",
       "      <td>51%</td>\n",
       "      <td>58%</td>\n",
       "    </tr>\n",
       "    <tr>\n",
       "      <th>1</th>\n",
       "      <td>1</td>\n",
       "      <td>86%</td>\n",
       "      <td>51%</td>\n",
       "      <td>58%</td>\n",
       "    </tr>\n",
       "  </tbody>\n",
       "</table>"
      ],
      "text/plain": [
       "<IPython.core.display.HTML object>"
      ]
     },
     "metadata": {},
     "output_type": "display_data"
    },
    {
     "name": "stdout",
     "output_type": "stream",
     "text": [
      "fit() dur=152.15538573265076\n",
      "score()s dur=906.5250158309937\n"
     ]
    },
    {
     "data": {
      "text/html": [
       "<table border=\"1\" class=\"dataframe\">\n",
       "  <thead>\n",
       "    <tr style=\"text-align: right;\">\n",
       "      <th></th>\n",
       "      <th>run</th>\n",
       "      <th>trn_acc</th>\n",
       "      <th>tst_acc</th>\n",
       "      <th>x_acc</th>\n",
       "    </tr>\n",
       "  </thead>\n",
       "  <tbody>\n",
       "    <tr>\n",
       "      <th>0</th>\n",
       "      <td>0</td>\n",
       "      <td>86%</td>\n",
       "      <td>51%</td>\n",
       "      <td>58%</td>\n",
       "    </tr>\n",
       "    <tr>\n",
       "      <th>1</th>\n",
       "      <td>1</td>\n",
       "      <td>86%</td>\n",
       "      <td>51%</td>\n",
       "      <td>58%</td>\n",
       "    </tr>\n",
       "    <tr>\n",
       "      <th>2</th>\n",
       "      <td>2</td>\n",
       "      <td>85%</td>\n",
       "      <td>51%</td>\n",
       "      <td>58%</td>\n",
       "    </tr>\n",
       "  </tbody>\n",
       "</table>"
      ],
      "text/plain": [
       "<IPython.core.display.HTML object>"
      ]
     },
     "metadata": {},
     "output_type": "display_data"
    },
    {
     "name": "stdout",
     "output_type": "stream",
     "text": [
      "fit() dur=170.8431088924408\n",
      "score()s dur=792.7792429924011\n"
     ]
    },
    {
     "data": {
      "text/html": [
       "<table border=\"1\" class=\"dataframe\">\n",
       "  <thead>\n",
       "    <tr style=\"text-align: right;\">\n",
       "      <th></th>\n",
       "      <th>run</th>\n",
       "      <th>trn_acc</th>\n",
       "      <th>tst_acc</th>\n",
       "      <th>x_acc</th>\n",
       "    </tr>\n",
       "  </thead>\n",
       "  <tbody>\n",
       "    <tr>\n",
       "      <th>0</th>\n",
       "      <td>0</td>\n",
       "      <td>86%</td>\n",
       "      <td>51%</td>\n",
       "      <td>58%</td>\n",
       "    </tr>\n",
       "    <tr>\n",
       "      <th>1</th>\n",
       "      <td>1</td>\n",
       "      <td>86%</td>\n",
       "      <td>51%</td>\n",
       "      <td>58%</td>\n",
       "    </tr>\n",
       "    <tr>\n",
       "      <th>2</th>\n",
       "      <td>2</td>\n",
       "      <td>85%</td>\n",
       "      <td>51%</td>\n",
       "      <td>58%</td>\n",
       "    </tr>\n",
       "    <tr>\n",
       "      <th>3</th>\n",
       "      <td>3</td>\n",
       "      <td>85%</td>\n",
       "      <td>51%</td>\n",
       "      <td>58%</td>\n",
       "    </tr>\n",
       "  </tbody>\n",
       "</table>"
      ],
      "text/plain": [
       "<IPython.core.display.HTML object>"
      ]
     },
     "metadata": {},
     "output_type": "display_data"
    },
    {
     "name": "stdout",
     "output_type": "stream",
     "text": [
      "fit() dur=166.70527744293213\n",
      "score()s dur=798.4407136440277\n"
     ]
    },
    {
     "data": {
      "text/html": [
       "<table border=\"1\" class=\"dataframe\">\n",
       "  <thead>\n",
       "    <tr style=\"text-align: right;\">\n",
       "      <th></th>\n",
       "      <th>run</th>\n",
       "      <th>trn_acc</th>\n",
       "      <th>tst_acc</th>\n",
       "      <th>x_acc</th>\n",
       "    </tr>\n",
       "  </thead>\n",
       "  <tbody>\n",
       "    <tr>\n",
       "      <th>0</th>\n",
       "      <td>0</td>\n",
       "      <td>86%</td>\n",
       "      <td>51%</td>\n",
       "      <td>58%</td>\n",
       "    </tr>\n",
       "    <tr>\n",
       "      <th>1</th>\n",
       "      <td>1</td>\n",
       "      <td>86%</td>\n",
       "      <td>51%</td>\n",
       "      <td>58%</td>\n",
       "    </tr>\n",
       "    <tr>\n",
       "      <th>2</th>\n",
       "      <td>2</td>\n",
       "      <td>85%</td>\n",
       "      <td>51%</td>\n",
       "      <td>58%</td>\n",
       "    </tr>\n",
       "    <tr>\n",
       "      <th>3</th>\n",
       "      <td>3</td>\n",
       "      <td>85%</td>\n",
       "      <td>51%</td>\n",
       "      <td>58%</td>\n",
       "    </tr>\n",
       "    <tr>\n",
       "      <th>4</th>\n",
       "      <td>4</td>\n",
       "      <td>85%</td>\n",
       "      <td>51%</td>\n",
       "      <td>58%</td>\n",
       "    </tr>\n",
       "  </tbody>\n",
       "</table>"
      ],
      "text/plain": [
       "<IPython.core.display.HTML object>"
      ]
     },
     "metadata": {},
     "output_type": "display_data"
    },
    {
     "name": "stdout",
     "output_type": "stream",
     "text": [
      "CPU times: user 1h 21min 47s, sys: 5.8 s, total: 1h 21min 53s\n",
      "Wall time: 1h 31min 13s\n"
     ]
    }
   ],
   "source": [
    "%%time\n",
    "\n",
    "skf = StratifiedKFold(n_splits=5, random_state=42, shuffle=True)\n",
    "\n",
    "runs = []\n",
    "run = 0\n",
    "# reverse the normal train/test split sizes.\n",
    "# Keep the train small and the test large\n",
    "# So the trains are similar in size to the representative dataset\n",
    "for tst_index, trn_index in skf.split(x_encoded, y):\n",
    "    x_trn = x_encoded[trn_index]\n",
    "    x_tst = x_encoded[tst_index]\n",
    "    y_trn = y[trn_index]\n",
    "    y_tst = y[tst_index]\n",
    "    start = time.time()\n",
    "    model = SVC(probability=True, random_state=42)\n",
    "    model.fit(x_trn, y_trn)\n",
    "    print(f'fit() dur={time.time() - start}')\n",
    "    start = time.time()\n",
    "    runs.append({\n",
    "        'run':     run,\n",
    "        'trn_acc': f'{model.score(x_trn, y_trn):.0%}',\n",
    "        'tst_acc': f'{model.score(x_tst, y_tst):.0%}',\n",
    "        'x_acc':  f'{model.score(x_encoded, y):.0%}',\n",
    "    })\n",
    "    print(f'score()s dur={time.time() - start}')\n",
    "    display(HTML(pd.DataFrame(runs).to_html()))\n",
    "    start = time.time()\n",
    "    run += 1"
   ]
  },
  {
   "cell_type": "code",
   "execution_count": 5,
   "id": "a3ecaf6c",
   "metadata": {},
   "outputs": [
    {
     "data": {
      "text/html": [
       "<table border=\"1\" class=\"dataframe\">\n",
       "  <thead>\n",
       "    <tr style=\"text-align: right;\">\n",
       "      <th></th>\n",
       "      <th>run</th>\n",
       "      <th>trn_acc</th>\n",
       "      <th>tst_acc</th>\n",
       "      <th>x_acc</th>\n",
       "    </tr>\n",
       "  </thead>\n",
       "  <tbody>\n",
       "    <tr>\n",
       "      <th>0</th>\n",
       "      <td>0</td>\n",
       "      <td>86%</td>\n",
       "      <td>51%</td>\n",
       "      <td>58%</td>\n",
       "    </tr>\n",
       "    <tr>\n",
       "      <th>1</th>\n",
       "      <td>1</td>\n",
       "      <td>86%</td>\n",
       "      <td>51%</td>\n",
       "      <td>58%</td>\n",
       "    </tr>\n",
       "    <tr>\n",
       "      <th>2</th>\n",
       "      <td>2</td>\n",
       "      <td>85%</td>\n",
       "      <td>51%</td>\n",
       "      <td>58%</td>\n",
       "    </tr>\n",
       "    <tr>\n",
       "      <th>3</th>\n",
       "      <td>3</td>\n",
       "      <td>85%</td>\n",
       "      <td>51%</td>\n",
       "      <td>58%</td>\n",
       "    </tr>\n",
       "    <tr>\n",
       "      <th>4</th>\n",
       "      <td>4</td>\n",
       "      <td>85%</td>\n",
       "      <td>51%</td>\n",
       "      <td>58%</td>\n",
       "    </tr>\n",
       "  </tbody>\n",
       "</table>"
      ],
      "text/plain": [
       "<IPython.core.display.HTML object>"
      ]
     },
     "metadata": {},
     "output_type": "display_data"
    }
   ],
   "source": [
    "df = pd.DataFrame(runs)\n",
    "display(HTML(df.to_html()))\n",
    "# 10 split cross validation\n",
    "# run trn_acc tst_acc x_acc\n",
    "#   0     90%     48%   52%\n",
    "#   1     89%     48%   52%\n",
    "#   2     90%     48%   52%\n",
    "#   3     90%     48%   52%\n",
    "#   4     89%     48%   52%\n",
    "#   5     89%     48%   52%\n",
    "#   6     89%     48%   52%\n",
    "#   7     89%     48%   52%\n",
    "#   8     90%     48%   52%\n",
    "#   9     89%     48%   52%\n",
    "\n",
    "# 5 split cross validation\n",
    "# run trn_acc tst_acc x_acc\n",
    "#   0     86%     51%   58%\n",
    "#   1     86%     51%   58%\n",
    "#   2     85%     51%   58%\n",
    "#   3     85%     51%   58%\n",
    "#   4     85%     51%   58%"
   ]
  },
  {
   "cell_type": "code",
   "execution_count": null,
   "id": "1c9e4765",
   "metadata": {},
   "outputs": [],
   "source": []
  }
 ],
 "metadata": {
  "kernelspec": {
   "display_name": "Python 3 (ipykernel)",
   "language": "python",
   "name": "python3"
  },
  "language_info": {
   "codemirror_mode": {
    "name": "ipython",
    "version": 3
   },
   "file_extension": ".py",
   "mimetype": "text/x-python",
   "name": "python",
   "nbconvert_exporter": "python",
   "pygments_lexer": "ipython3",
   "version": "3.10.4"
  }
 },
 "nbformat": 4,
 "nbformat_minor": 5
}
