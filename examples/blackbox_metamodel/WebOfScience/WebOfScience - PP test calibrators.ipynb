{
 "cells": [
  {
   "cell_type": "markdown",
   "id": "757faaca",
   "metadata": {},
   "source": [
    "# Performance Predictor (PP) test calibrators\n",
    "\n",
    "Test calibrators:\n",
    "\n",
    "- The fact that the average prediction (PP accuracy in your tables) is so far off the target (the SVC accuracy), means that the calibration is off. Even if the performance predictor didn't learn anything at all, if it was well-calibrated it would just output the test set accuracy as its guess, and so at least on the test set it should get the right score. But there are lots of ways to calibrate, and sometimes some work better than others. The default is 'shift', but the other possibilities are: 'confidence_bins', 'linear_extrapolation', and 'isotonic_regression'\n",
    "\n",
    "In this notebook, we will do the following\n",
    "- Start with the WebOfScience dataset\n",
    "  - Use the 90 classes with the highest class accuracy size\n",
    "    - 90 classes deteremined in notebook:\n",
    "      - 'WebOfScience - filter accuracy ordered classes to 0.80 acc and 90 classes.ipynb'\n",
    "  - Randomize the dataset.\n",
    "    - Train set is first 4,500 examples in randomized dataset.\n",
    "      - Mimics the size of the representative workspace\n",
    "    - Remaining 29,120 can be used to fit PP.\n",
    "    - Create base SVC model with the train set.\n",
    "- Run the basic PP ShortTextClassificationWrapper varying the PP calibration.\n",
    "  - calibrations = ['shift', 'confidence_bins', 'linear_extrapolation',  'isotonic_regression']\n",
    "- Results\n",
    "  - Gather the y_pred and y_score\n",
    "  - Display the SVC and PP accuracies as well as TH/TL/FH/FL for each run"
   ]
  },
  {
   "cell_type": "code",
   "execution_count": 1,
   "id": "e0a022d4",
   "metadata": {},
   "outputs": [
    {
     "name": "stderr",
     "output_type": "stream",
     "text": [
      "2022-08-11 02:25:24.781232: W tensorflow/stream_executor/platform/default/dso_loader.cc:64] Could not load dynamic library 'libcudart.so.11.0'; dlerror: libcudart.so.11.0: cannot open shared object file: No such file or directory\n",
      "2022-08-11 02:25:24.781268: I tensorflow/stream_executor/cuda/cudart_stub.cc:29] Ignore above cudart dlerror if you do not have a GPU set up on your machine.\n"
     ]
    },
    {
     "data": {
      "text/html": [
       "<style>.container { width:100% !important; }</style>"
      ],
      "text/plain": [
       "<IPython.core.display.HTML object>"
      ]
     },
     "metadata": {},
     "output_type": "display_data"
    }
   ],
   "source": [
    "import gzip\n",
    "from IPython.display import display, HTML\n",
    "import io\n",
    "import json\n",
    "import logging\n",
    "import matplotlib.pyplot as plt\n",
    "import numpy as np\n",
    "import os\n",
    "import pandas as pd\n",
    "from sentence_transformers import SentenceTransformer\n",
    "from sklearn.metrics import roc_auc_score\n",
    "from sklearn.metrics import roc_curve\n",
    "from sklearn.svm import SVC\n",
    "from sklearn.utils import shuffle\n",
    "import time\n",
    "from typing import List\n",
    "\n",
    "from uq360.algorithms.blackbox_metamodel.short_text_classification import ShortTextClassificationWrapper\n",
    "\n",
    "os.environ[\"PYTHONWARNINGS\"] = 'ignore'\n",
    "\n",
    "pd.options.display.max_colwidth = 100\n",
    "\n",
    "%load_ext autoreload\n",
    "%autoreload 2\n",
    "\n",
    "# Increase the width of the notebook so that it is the width of the browser \n",
    "# which allows larger size for the dashboard\n",
    "display(HTML('<style>.container { width:100% !important; }</style>'))"
   ]
  },
  {
   "cell_type": "markdown",
   "id": "07e2c6cb",
   "metadata": {},
   "source": [
    "#### Load workspace dataset"
   ]
  },
  {
   "cell_type": "code",
   "execution_count": 2,
   "id": "bb390fb7",
   "metadata": {},
   "outputs": [
    {
     "data": {
      "text/html": [
       "<table border=\"1\" class=\"dataframe\">\n",
       "  <thead>\n",
       "    <tr style=\"text-align: right;\">\n",
       "      <th></th>\n",
       "      <th>intent</th>\n",
       "      <th>n unique</th>\n",
       "      <th>min n uniq</th>\n",
       "      <th>max n uniq</th>\n",
       "    </tr>\n",
       "  </thead>\n",
       "  <tbody>\n",
       "    <tr>\n",
       "      <th>0</th>\n",
       "      <td>y</td>\n",
       "      <td>134</td>\n",
       "      <td>43</td>\n",
       "      <td>750</td>\n",
       "    </tr>\n",
       "    <tr>\n",
       "      <th>1</th>\n",
       "      <td>yl1</td>\n",
       "      <td>7</td>\n",
       "      <td>3297</td>\n",
       "      <td>14625</td>\n",
       "    </tr>\n",
       "  </tbody>\n",
       "</table>"
      ],
      "text/plain": [
       "<IPython.core.display.HTML object>"
      ]
     },
     "metadata": {},
     "output_type": "display_data"
    },
    {
     "name": "stdout",
     "output_type": "stream",
     "text": [
      "df_merge.shape = (46985, 2)\n",
      "x.shape        = (46985,)\n",
      "y.shape        = (46985,)\n",
      "CPU times: user 241 ms, sys: 34.7 ms, total: 276 ms\n",
      "Wall time: 299 ms\n"
     ]
    }
   ],
   "source": [
    "%%time\n",
    "# X is input data that include text sequences \n",
    "# Y is target value \n",
    "# YL1 is target value of level one (parent label)\n",
    "# YL2 is target value of level one (child label)\n",
    "x_gzip_file = '../../../data/WebOfScience/WebOfScience/WOS46985/X.txt.gzip'\n",
    "y_file = '../../../data/WebOfScience/WebOfScience/WOS46985/Y.txt'\n",
    "yl1_file = '../../../data/WebOfScience/WebOfScience/WOS46985/YL1.txt'\n",
    "yl2_file = '../../../data/WebOfScience/WebOfScience/WOS46985/YL2.txt'\n",
    "\n",
    "with gzip.open(x_gzip_file, 'rt') as f:\n",
    "    lines = f.readlines()\n",
    "df_x = pd.DataFrame(lines, columns=['example'])\n",
    "df_y = pd.read_csv(y_file, header=None, names=['intent'])\n",
    "df_yl1 = pd.read_csv(yl1_file, header=None, names=['yl1'])\n",
    "df_yl2 = pd.read_csv(yl2_file, header=None, names=['yl2'])\n",
    "data = [{'intent': 'y', \n",
    "         'n unique': len(np.unique(df_y['intent'])),\n",
    "         'min n uniq': min(np.unique(df_y['intent'], return_counts=True)[1]),\n",
    "         'max n uniq': max(np.unique(df_y['intent'], return_counts=True)[1])\n",
    "        },\n",
    "        {'intent': 'yl1', \n",
    "         'n unique': len(np.unique(df_yl1['yl1'])),\n",
    "         'min n uniq': min(np.unique(df_yl1['yl1'], return_counts=True)[1]),\n",
    "         'max n uniq': max(np.unique(df_yl1['yl1'], return_counts=True)[1])\n",
    "        }\n",
    "]\n",
    "display(HTML(pd.DataFrame(data).to_html()))\n",
    "\n",
    "df_merge = pd.concat([df_x, df_y], axis=1, sort=False)\n",
    "print(f'df_merge.shape = {df_merge.shape}')\n",
    "\n",
    "x = df_merge['example'].to_numpy()\n",
    "y = df_merge['intent'].to_numpy().ravel()\n",
    "print(f'x.shape        = {x.shape}')\n",
    "print(f'y.shape        = {y.shape}')\n",
    "\n",
    "# display(HTML(df_merge.head(4).to_html()))"
   ]
  },
  {
   "cell_type": "markdown",
   "id": "580d651a",
   "metadata": {},
   "source": [
    "#### Encode with USE encoder"
   ]
  },
  {
   "cell_type": "code",
   "execution_count": 3,
   "id": "8f82bf3b",
   "metadata": {},
   "outputs": [
    {
     "name": "stdout",
     "output_type": "stream",
     "text": [
      "x_encoded.shape = (46985, 384)\n",
      "CPU times: user 4.47 s, sys: 179 ms, total: 4.65 s\n",
      "Wall time: 4.65 s\n"
     ]
    }
   ],
   "source": [
    "%%time\n",
    "class MiniLMEmbedding:\n",
    "    def __init__(self):\n",
    "        self.transformer = SentenceTransformer('paraphrase-MiniLM-L6-v2')\n",
    "    def encode(self, input_sentences: List[str]) -> np.array:\n",
    "        sentences = [sentence.lower() for sentence in input_sentences]\n",
    "        embedded_sentences = [self.embed_sentence(s) for s in sentences]\n",
    "        return np.array(embedded_sentences)\n",
    "    def embed_sentence(self, sentence: str) -> np.array:\n",
    "        embedding = self.transformer.encode(sentence, show_progress_bar=False, convert_to_numpy=True)\n",
    "        return embedding\n",
    "\n",
    "encoded_file = '../../../data/WebOfScience/WebOfScience/WOS46985/X_encoded.csv'\n",
    "if os.path.exists(encoded_file):\n",
    "    df = pd.read_csv(encoded_file, header=None)\n",
    "    x_encoded = df.to_numpy()\n",
    "else:\n",
    "    encoder = MiniLMEmbedding()\n",
    "    x_encoded = encoder.encode(x)\n",
    "    # Save to file\n",
    "    df = pd.DataFrame(x_encoded)\n",
    "    df.to_csv(encoded_file, header=False, index=False)\n",
    "\n",
    "print(f'x_encoded.shape = {x_encoded.shape}')"
   ]
  },
  {
   "cell_type": "markdown",
   "id": "2b835b4f",
   "metadata": {},
   "source": [
    "#### Determine subset datasert for running experiment\n",
    "- keep_intents is generated in notebook:\n",
    "  - 'WebOfScience - filter accuracy ordered classes to 0.80 acc and 90 classes.ipynb'"
   ]
  },
  {
   "cell_type": "code",
   "execution_count": 4,
   "id": "85ff3604",
   "metadata": {},
   "outputs": [
    {
     "name": "stdout",
     "output_type": "stream",
     "text": [
      "len(keep_intents) = 90\n",
      "keep_intents = [64, 122, 12, 113, 62, 49, 66, 2, 68, 45, 103, 97, 70, 48, 115, 98, 3, 57, 61, 8, 74, 47, 127, 112, 65, 31, 99, 9, 79, 114, 35, 63, 111, 94, 101, 92, 46, 100, 69, 93, 96, 42, 25, 60, 39, 106, 121, 44, 33, 109, 14, 130, 81, 53, 17, 58, 71, 132, 80, 0, 83, 37, 55, 90, 85, 32, 75, 105, 22, 38, 56, 41, 128, 5, 21, 84, 43, 54, 36, 77, 27, 131, 72, 73, 118, 7, 108, 23, 26, 124]\n",
      "len(keep_indices) = 33620\n",
      "y_sub.shape         = (33620,)\n",
      "x_sub_encoded.shape = (33620, 384)\n"
     ]
    }
   ],
   "source": [
    "keep_intents = [64, 122, 12, 113, 62, 49, 66, 2, 68, 45, 103, 97, 70, 48, 115, 98, 3, 57, 61, 8, 74, 47, 127, 112, 65, 31, 99, 9, 79, 114, 35, 63, 111, 94, 101, 92, 46, 100, 69, 93, 96, 42, 25, 60, 39, 106, 121, 44, 33, 109, 14, 130, 81, 53, 17, 58, 71, 132, 80, 0, 83, 37, 55, 90, 85, 32, 75, 105, 22, 38, 56, 41, 128, 5, 21, 84, 43, 54, 36, 77, 27, 131, 72, 73, 118, 7, 108, 23, 26, 124]\n",
    "print(f'len(keep_intents) = {len(keep_intents)}')\n",
    "print(f'keep_intents = {list(keep_intents)}')\n",
    "# Gather the example indices for the examples to keep\n",
    "keep_indices = [i for i in range(len(y)) if y[i] in keep_intents]\n",
    "print(f'len(keep_indices) = {len(keep_indices)}')\n",
    "y_sub = y[keep_indices]\n",
    "x_sub_encoded = x_encoded[keep_indices]\n",
    "print(f'y_sub.shape         = {y_sub.shape}')\n",
    "print(f'x_sub_encoded.shape = {x_sub_encoded.shape}')"
   ]
  },
  {
   "cell_type": "markdown",
   "id": "7d6f1f54",
   "metadata": {},
   "source": [
    "#### Randomize the dataset\n",
    "- Train set is first 4,500 examples in randomized dataset.\n",
    "  - Mimics the size of the representative workspace\n",
    "- Remaining 29,120 can be used to fit PP."
   ]
  },
  {
   "cell_type": "code",
   "execution_count": 5,
   "id": "9c6c5489",
   "metadata": {},
   "outputs": [
    {
     "name": "stdout",
     "output_type": "stream",
     "text": [
      "y_sub.shape         = (33620,)\n",
      "x_sub_encoded.shape = (33620, 384)\n",
      "y.shape             = (33620,)\n",
      "x.shape             = (33620, 384)\n",
      "y_train.shape = (4500,)\n",
      "x_train.shape = (4500, 384)\n",
      "y_test.shape  = (29120,)\n",
      "x_test.shape  = (29120, 384)\n"
     ]
    }
   ],
   "source": [
    "x, y = shuffle(x_sub_encoded, y_sub, random_state=42)\n",
    "print(f'y_sub.shape         = {y_sub.shape}')\n",
    "print(f'x_sub_encoded.shape = {x_sub_encoded.shape}')\n",
    "print(f'y.shape             = {y.shape}')\n",
    "print(f'x.shape             = {x.shape}')\n",
    "\n",
    "train_size = 4500\n",
    "# train_size = 500\n",
    "x_train = x[:train_size]\n",
    "y_train = y[:train_size]\n",
    "x_test = x[- (len(y) - train_size):]\n",
    "y_test = y[- (len(y) - train_size):]\n",
    "print(f'y_train.shape = {y_train.shape}')\n",
    "print(f'x_train.shape = {x_train.shape}')\n",
    "print(f'y_test.shape  = {y_test.shape}')\n",
    "print(f'x_test.shape  = {x_test.shape}')"
   ]
  },
  {
   "cell_type": "markdown",
   "id": "d6359ad7",
   "metadata": {},
   "source": [
    "#### Fit a basic SVM classifier"
   ]
  },
  {
   "cell_type": "code",
   "execution_count": 6,
   "id": "3725e357",
   "metadata": {
    "scrolled": true
   },
   "outputs": [
    {
     "name": "stdout",
     "output_type": "stream",
     "text": [
      "CPU times: user 39.8 s, sys: 59.7 ms, total: 39.9 s\n",
      "Wall time: 39.9 s\n"
     ]
    }
   ],
   "source": [
    "%%time\n",
    "def train_model_svm(x, y):\n",
    "    model = SVC(probability=True)\n",
    "    model.fit(x, y)    \n",
    "    return model\n",
    "\n",
    "model = train_model_svm(x_train, y_train)"
   ]
  },
  {
   "cell_type": "markdown",
   "id": "1cc817b8",
   "metadata": {},
   "source": [
    "#### Fit the Performance Predictor"
   ]
  },
  {
   "cell_type": "code",
   "execution_count": 7,
   "id": "0fc23c7e",
   "metadata": {
    "scrolled": true
   },
   "outputs": [
    {
     "name": "stdout",
     "output_type": "stream",
     "text": [
      "dur=8.302786350250244 - svc_predict\n",
      "Predictor type : text_ensemble\n",
      "calibrator : shift\n",
      "metamodels considered: {'svm': ['confidence_top', 'confidence_delta', 'confidence_entropy', 'class_frequency', 'mlp', 'svc'], 'gbm': ['confidence_top', 'confidence_delta', 'confidence_entropy', 'class_frequency', 'mlp', 'svc'], 'mlp': ['confidence_top', 'confidence_delta', 'confidence_entropy', 'class_frequency', 'mlp', 'svc']}\n",
      "Features extracted for : ['class_frequency', 'confidence_delta', 'confidence_entropy', 'confidence_top', 'mlp_1', 'mlp_2', 'svc_1', 'svc_2']\n",
      "Balancing data encountered a problem. Using unbalanced data.\n",
      "Balancing data encountered a problem. Using unbalanced data.\n",
      "Balancing data encountered a problem. Using unbalanced data.\n",
      "shift dur=33188.35742688179 - pp_fitted\n",
      "Incoming data is already encoded\n",
      "Features extracted for : ['class_frequency', 'confidence_delta', 'confidence_entropy', 'confidence_top', 'mlp_1', 'mlp_2', 'svc_1', 'svc_2']\n",
      "shift dur=16.03490138053894 - pp_test_accuracy  = 0.6337476666666666\n",
      "Predictor type : text_ensemble\n",
      "calibrator : confidence_bins\n",
      "metamodels considered: {'svm': ['confidence_top', 'confidence_delta', 'confidence_entropy', 'class_frequency', 'mlp', 'svc'], 'gbm': ['confidence_top', 'confidence_delta', 'confidence_entropy', 'class_frequency', 'mlp', 'svc'], 'mlp': ['confidence_top', 'confidence_delta', 'confidence_entropy', 'class_frequency', 'mlp', 'svc']}\n",
      "Features extracted for : ['class_frequency', 'confidence_delta', 'confidence_entropy', 'confidence_top', 'mlp_1', 'mlp_2', 'svc_1', 'svc_2']\n",
      "Balancing data encountered a problem. Using unbalanced data.\n",
      "Balancing data encountered a problem. Using unbalanced data.\n",
      "Balancing data encountered a problem. Using unbalanced data.\n",
      "confidence_bins dur=450.80164217948914 - pp_fitted\n",
      "Incoming data is already encoded\n",
      "Features extracted for : ['class_frequency', 'confidence_delta', 'confidence_entropy', 'confidence_top', 'mlp_1', 'mlp_2', 'svc_1', 'svc_2']\n",
      "confidence_bins dur=14.343656301498413 - pp_test_accuracy  = 0.6064113988035168\n",
      "Predictor type : text_ensemble\n",
      "calibrator : linear_extrapolation\n",
      "metamodels considered: {'svm': ['confidence_top', 'confidence_delta', 'confidence_entropy', 'class_frequency', 'mlp', 'svc'], 'gbm': ['confidence_top', 'confidence_delta', 'confidence_entropy', 'class_frequency', 'mlp', 'svc'], 'mlp': ['confidence_top', 'confidence_delta', 'confidence_entropy', 'class_frequency', 'mlp', 'svc']}\n",
      "Features extracted for : ['class_frequency', 'confidence_delta', 'confidence_entropy', 'confidence_top', 'mlp_1', 'mlp_2', 'svc_1', 'svc_2']\n",
      "Balancing data encountered a problem. Using unbalanced data.\n",
      "Balancing data encountered a problem. Using unbalanced data.\n",
      "Balancing data encountered a problem. Using unbalanced data.\n",
      "linear_extrapolation dur=476.8923828601837 - pp_fitted\n",
      "Incoming data is already encoded\n",
      "Features extracted for : ['class_frequency', 'confidence_delta', 'confidence_entropy', 'confidence_top', 'mlp_1', 'mlp_2', 'svc_1', 'svc_2']\n",
      "linear_extrapolation dur=15.668010234832764 - pp_test_accuracy  = 0.6891666666666667\n",
      "Predictor type : text_ensemble\n",
      "calibrator : isotonic_regression\n",
      "metamodels considered: {'svm': ['confidence_top', 'confidence_delta', 'confidence_entropy', 'class_frequency', 'mlp', 'svc'], 'gbm': ['confidence_top', 'confidence_delta', 'confidence_entropy', 'class_frequency', 'mlp', 'svc'], 'mlp': ['confidence_top', 'confidence_delta', 'confidence_entropy', 'class_frequency', 'mlp', 'svc']}\n",
      "Features extracted for : ['class_frequency', 'confidence_delta', 'confidence_entropy', 'confidence_top', 'mlp_1', 'mlp_2', 'svc_1', 'svc_2']\n",
      "Balancing data encountered a problem. Using unbalanced data.\n",
      "Balancing data encountered a problem. Using unbalanced data.\n",
      "Balancing data encountered a problem. Using unbalanced data.\n",
      "isotonic_regression dur=499.06536746025085 - pp_fitted\n",
      "Incoming data is already encoded\n",
      "Features extracted for : ['class_frequency', 'confidence_delta', 'confidence_entropy', 'confidence_top', 'mlp_1', 'mlp_2', 'svc_1', 'svc_2']\n",
      "isotonic_regression dur=12.803212642669678 - pp_test_accuracy  = 0.6046787769908967\n",
      "CPU times: user 7min 16s, sys: 1min 46s, total: 9min 2s\n",
      "Wall time: 9h 38min 2s\n"
     ]
    }
   ],
   "source": [
    "%%time\n",
    "pointwise_features=['confidence_top', \n",
    "                    'confidence_delta', \n",
    "                    'confidence_entropy', \n",
    "#                     'gbm', \n",
    "                    'class_frequency', \n",
    "                    'mlp', \n",
    "                    'svc']\n",
    "metamodels_considered = {'svm': pointwise_features,\n",
    "                         'gbm': pointwise_features,\n",
    "                         'mlp': pointwise_features}\n",
    "\n",
    "test_size = 2000\n",
    "# test_size = 500\n",
    "x_tst = x_test[:test_size]\n",
    "y_tst = y_test[:test_size]\n",
    "\n",
    "start = time.time()\n",
    "svc_test_pred = model.predict(x_tst)\n",
    "print(f'dur={time.time() - start} - svc_predict')\n",
    "\n",
    "experiments = []\n",
    "for calibrator in ['shift', 'confidence_bins', 'linear_extrapolation', 'isotonic_regression']:\n",
    "# for calibrator in ['confidence_bins']:\n",
    "    pp = ShortTextClassificationWrapper(base_model=model, metamodels_considered=metamodels_considered, calibrator=calibrator)\n",
    "\n",
    "    # fit PP\n",
    "    start = time.time()\n",
    "    pp.fit(x_train, y_train, x_tst, y_tst)\n",
    "    print(f'{calibrator} dur={time.time() - start} - pp_fitted')\n",
    "\n",
    "    start = time.time()\n",
    "    pp_test_accuracy, _, pp_test_score = pp.predict(x_tst)\n",
    "    print(f'{calibrator} dur={time.time() - start} - pp_test_accuracy  = {pp_test_accuracy / 100}')\n",
    "\n",
    "    experiments.append({'calibrator': calibrator,\n",
    "                        'y_test': y_tst,\n",
    "                        'svc_test_pred': svc_test_pred,\n",
    "                        'pp_test_accuracy': pp_test_accuracy / 100,\n",
    "                        'pp_test_score': pp_test_score[0],\n",
    "                       })"
   ]
  },
  {
   "cell_type": "markdown",
   "id": "4209fc57",
   "metadata": {},
   "source": [
    "#### Summarize results"
   ]
  },
  {
   "cell_type": "code",
   "execution_count": 8,
   "id": "401a37ca",
   "metadata": {},
   "outputs": [],
   "source": [
    "def check_correctness(intents, y_predictions, y_scores, threshold=0.9):\n",
    "    n_correct = 0\n",
    "    true_high = 0\n",
    "    true_low = 0\n",
    "    false_high = 0\n",
    "    false_low = 0\n",
    "    n_y = len(intents)\n",
    "    for y, y_pred, y_score in zip(intents, y_predictions, y_scores):\n",
    "        if y == y_pred:\n",
    "            n_correct += 1\n",
    "            if y_score > threshold:\n",
    "                true_high += 1\n",
    "            else:\n",
    "                true_low += 1\n",
    "        else:\n",
    "            if y_score > threshold:\n",
    "                false_high += 1\n",
    "            else:\n",
    "                false_low += 1\n",
    "    acc = n_correct / n_y\n",
    "    th = true_high / n_y\n",
    "    tl = true_low / n_y\n",
    "    fh = false_high / n_y\n",
    "    fl = false_low / n_y\n",
    "\n",
    "    return acc, th, tl, fh, fl"
   ]
  },
  {
   "cell_type": "code",
   "execution_count": 10,
   "id": "2f40c4c0",
   "metadata": {},
   "outputs": [
    {
     "data": {
      "text/html": [
       "<table border=\"1\" class=\"dataframe\">\n",
       "  <thead>\n",
       "    <tr style=\"text-align: right;\">\n",
       "      <th></th>\n",
       "      <th>calibrator</th>\n",
       "      <th>pp fit size</th>\n",
       "      <th>svc accuracy</th>\n",
       "      <th>pp accuracy</th>\n",
       "      <th>TH</th>\n",
       "      <th>TL</th>\n",
       "      <th>FH</th>\n",
       "      <th>FL</th>\n",
       "      <th>AUC</th>\n",
       "    </tr>\n",
       "  </thead>\n",
       "  <tbody>\n",
       "    <tr>\n",
       "      <th>0</th>\n",
       "      <td>shift</td>\n",
       "      <td>2000</td>\n",
       "      <td>60.70%</td>\n",
       "      <td>63.37%</td>\n",
       "      <td>47.00%</td>\n",
       "      <td>13.70%</td>\n",
       "      <td>12.70%</td>\n",
       "      <td>26.60%</td>\n",
       "      <td>74.37%</td>\n",
       "    </tr>\n",
       "    <tr>\n",
       "      <th>1</th>\n",
       "      <td>confidence_bins</td>\n",
       "      <td>2000</td>\n",
       "      <td>60.70%</td>\n",
       "      <td>60.64%</td>\n",
       "      <td>11.30%</td>\n",
       "      <td>49.40%</td>\n",
       "      <td>0.55%</td>\n",
       "      <td>38.75%</td>\n",
       "      <td>80.91%</td>\n",
       "    </tr>\n",
       "    <tr>\n",
       "      <th>2</th>\n",
       "      <td>linear_extrapolation</td>\n",
       "      <td>2000</td>\n",
       "      <td>60.70%</td>\n",
       "      <td>68.92%</td>\n",
       "      <td>47.00%</td>\n",
       "      <td>13.70%</td>\n",
       "      <td>12.70%</td>\n",
       "      <td>26.60%</td>\n",
       "      <td>74.27%</td>\n",
       "    </tr>\n",
       "    <tr>\n",
       "      <th>3</th>\n",
       "      <td>isotonic_regression</td>\n",
       "      <td>2000</td>\n",
       "      <td>60.70%</td>\n",
       "      <td>60.47%</td>\n",
       "      <td>16.70%</td>\n",
       "      <td>44.00%</td>\n",
       "      <td>1.00%</td>\n",
       "      <td>38.30%</td>\n",
       "      <td>81.16%</td>\n",
       "    </tr>\n",
       "  </tbody>\n",
       "</table>"
      ],
      "text/plain": [
       "<IPython.core.display.HTML object>"
      ]
     },
     "metadata": {},
     "output_type": "display_data"
    },
    {
     "data": {
      "image/png": "[encoded data removed]",
      "text/plain": [
       "<Figure size 432x288 with 1 Axes>"
      ]
     },
     "metadata": {
      "needs_background": "light"
     },
     "output_type": "display_data"
    }
   ],
   "source": [
    "plt.figure()\n",
    "data = []\n",
    "for e in experiments:\n",
    "    y_true = [1 if y==p else 0 for y,p in zip(e['y_test'], e['svc_test_pred'])]\n",
    "    fpr, tpr, thresholds = roc_curve(y_true, e['pp_test_score'], pos_label=1)\n",
    "    auc = roc_auc_score(y_true, e['pp_test_score'])\n",
    "    plt.plot(fpr, tpr, label=f'{auc:.2%} - {e[\"calibrator\"]}')\n",
    "\n",
    "    acc, th, tl, fh, fl = check_correctness(e['y_test'],  e['svc_test_pred'],  e['pp_test_score'])\n",
    "    data.append({'calibrator': e['calibrator'],\n",
    "                 'pp fit size': len(e['y_test']),\n",
    "                 'svc accuracy': acc,\n",
    "                 'pp accuracy': e['pp_test_accuracy'],\n",
    "                 'TH': th,\n",
    "                 'TL': tl,\n",
    "                 'FH': fh,\n",
    "                 'FL': fl,\n",
    "                 'AUC': auc,\n",
    "    })\n",
    "\n",
    "pct_fmt = '{:,.2%}'.format\n",
    "fmt = {col: pct_fmt for col in ['svc accuracy', 'pp accuracy', 'TH', 'TL', 'FH', 'FL', 'AUC']}\n",
    "display(HTML(pd.DataFrame(data).to_html(formatters=fmt)))\n",
    "\n",
    "plt.title('Receiver Operating Characteristic')\n",
    "plt.legend(loc='lower right')\n",
    "plt.ylabel('True Positive Rate')\n",
    "plt.xlabel('False Positive Rate')\n",
    "plt.show()"
   ]
  },
  {
   "cell_type": "code",
   "execution_count": null,
   "id": "6fb24a65",
   "metadata": {},
   "outputs": [],
   "source": []
  }
 ],
 "metadata": {
  "kernelspec": {
   "display_name": "Python 3 (ipykernel)",
   "language": "python",
   "name": "python3"
  },
  "language_info": {
   "codemirror_mode": {
    "name": "ipython",
    "version": 3
   },
   "file_extension": ".py",
   "mimetype": "text/x-python",
   "name": "python",
   "nbconvert_exporter": "python",
   "pygments_lexer": "ipython3",
   "version": "3.10.4"
  }
 },
 "nbformat": 4,
 "nbformat_minor": 5
}
